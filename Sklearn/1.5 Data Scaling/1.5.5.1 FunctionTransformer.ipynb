{
 "cells": [
  {
   "cell_type": "code",
   "execution_count": null,
   "metadata": {},
   "outputs": [],
   "source": [
    "#Import Libraries\n",
    "from sklearn.preprocessing import FunctionTransformer\n",
    "#----------------------------------------------------\n",
    "\n",
    "#Function Transforming Data\n",
    "'''\n",
    "FunctionTransformer(func=None, inverse_func=None, validate= None,\n",
    "                    accept_sparse=False,pass_y='deprecated', check_inverse=True,\n",
    "                    kw_args=None,inv_kw_args=None)\n",
    "'''\n",
    "\n",
    "scaler = FunctionTransformer(func = lambda x: x**2,validate = True) # or func = function1\n",
    "X = scaler.fit_transform(X)\n",
    "\n",
    "#showing data\n",
    "print('X \\n' , X[:10])\n",
    "print('y \\n' , y[:10])"
   ]
  },
  {
   "cell_type": "code",
   "execution_count": 3,
   "metadata": {},
   "outputs": [
    {
     "name": "stdout",
     "output_type": "stream",
     "text": [
      "[[2.         1.         1.41421356 1.41421356]\n",
      " [1.         1.73205081 3.         1.73205081]\n",
      " [2.23606798 2.64575131 2.23606798 1.        ]]\n"
     ]
    }
   ],
   "source": [
    "import numpy as np\n",
    "from sklearn.preprocessing import FunctionTransformer\n",
    "\n",
    "X = [[4, 1, 2, 2],\n",
    "     [1, 3, 9, 3],\n",
    "     [5, 7, 5, 1]]\n",
    "def fun(z):\n",
    "    return np.sqrt(z)\n",
    "newdata = FunctionTransformer(func = fun).fit_transform(X)\n",
    "print(newdata)"
   ]
  },
  {
   "cell_type": "code",
   "execution_count": null,
   "metadata": {},
   "outputs": [],
   "source": []
  }
 ],
 "metadata": {
  "kernelspec": {
   "display_name": "Python 3",
   "language": "python",
   "name": "python3"
  },
  "language_info": {
   "codemirror_mode": {
    "name": "ipython",
    "version": 3
   },
   "file_extension": ".py",
   "mimetype": "text/x-python",
   "name": "python",
   "nbconvert_exporter": "python",
   "pygments_lexer": "ipython3",
   "version": "3.8.5"
  }
 },
 "nbformat": 4,
 "nbformat_minor": 4
}
