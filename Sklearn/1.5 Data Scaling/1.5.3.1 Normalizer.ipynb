{
 "cells": [
  {
   "cell_type": "code",
   "execution_count": null,
   "metadata": {},
   "outputs": [],
   "source": [
    "#Import Libraries\n",
    "from sklearn.preprocessing import Normalizer\n",
    "#----------------------------------------------------\n",
    "\n",
    "#Normalizing Data\n",
    "\n",
    "scaler = Normalizer(copy=True, norm='l2') # you can change the norm to 'l1' or 'max' \n",
    "X = scaler.fit_transform(X)\n",
    "\n",
    "#showing data\n",
    "print('X \\n' , X[:10])\n",
    "print('y \\n' , y[:10])"
   ]
  },
  {
   "cell_type": "code",
   "execution_count": 3,
   "metadata": {},
   "outputs": [
    {
     "name": "stdout",
     "output_type": "stream",
     "text": [
      "<<<<<<<<<<<< Norm=l1 >>>>>>>>\n",
      "[[0.44444444 0.11111111 0.22222222 0.22222222]\n",
      " [0.0625     0.1875     0.5625     0.1875    ]\n",
      " [0.27777778 0.38888889 0.27777778 0.05555556]]\n",
      "<<<<<<<<<<<< Norm=l2 >>>>>>>>\n",
      "[[0.8 0.2 0.4 0.4]\n",
      " [0.1 0.3 0.9 0.3]\n",
      " [0.5 0.7 0.5 0.1]]\n",
      "<<<<<<<<<<<< Norm=Max >>>>>>>>\n",
      "[[0.44444444 0.11111111 0.22222222 0.22222222]\n",
      " [0.0625     0.1875     0.5625     0.1875    ]\n",
      " [0.27777778 0.38888889 0.27777778 0.05555556]]\n"
     ]
    }
   ],
   "source": [
    "from sklearn.preprocessing import Normalizer\n",
    "X = [[4, 1, 2, 2], \n",
    "     [1, 3, 9, 3],\n",
    "     [5, 7, 5, 1]]\n",
    "\n",
    "transformer_l1 = Normalizer(norm = 'l1').fit_transform(X)\n",
    "transformer_l2 = Normalizer(norm = 'l2').fit_transform(X)\n",
    "transformer_max = Normalizer(norm = 'max').fit_transform(X)\n",
    "\n",
    "print('<<<<<<<<<<<< Norm=l1 >>>>>>>>')\n",
    "print(transformer_l1)\n",
    "print('<<<<<<<<<<<< Norm=l2 >>>>>>>>')\n",
    "print(transformer_l2)\n",
    "print('<<<<<<<<<<<< Norm=Max >>>>>>>>')\n",
    "\n",
    "print(transformer_l1)"
   ]
  },
  {
   "cell_type": "code",
   "execution_count": null,
   "metadata": {},
   "outputs": [],
   "source": []
  }
 ],
 "metadata": {
  "kernelspec": {
   "display_name": "Python 3",
   "language": "python",
   "name": "python3"
  },
  "language_info": {
   "codemirror_mode": {
    "name": "ipython",
    "version": 3
   },
   "file_extension": ".py",
   "mimetype": "text/x-python",
   "name": "python",
   "nbconvert_exporter": "python",
   "pygments_lexer": "ipython3",
   "version": "3.8.5"
  }
 },
 "nbformat": 4,
 "nbformat_minor": 4
}
