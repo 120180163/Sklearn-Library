{
 "cells": [
  {
   "cell_type": "code",
   "execution_count": null,
   "metadata": {},
   "outputs": [],
   "source": [
    "#Import Libraries\n",
    "from sklearn.preprocessing import MinMaxScaler\n",
    "\n",
    "#MinMaxScaler for Data\n",
    "scaler = MinMaxScaler(copy=True, feature_range=(0, 1))\n",
    "X = scaler.fit_transform(X)\n",
    "\n",
    "#showing data\n",
    "print('X \\n' , X[:10])\n",
    "print('y \\n' , y[:10])"
   ]
  },
  {
   "cell_type": "code",
   "execution_count": 10,
   "metadata": {},
   "outputs": [
    {
     "name": "stdout",
     "output_type": "stream",
     "text": [
      "[ 2. 16.]\n",
      "======================\n",
      "[-1.  2.]\n",
      "======================\n",
      "[ 1. 18.]\n",
      "======================\n",
      "======================\n",
      "[[0.   0.  ]\n",
      " [0.25 0.25]\n",
      " [0.5  0.5 ]\n",
      " [1.   1.  ]]\n"
     ]
    }
   ],
   "source": [
    "from sklearn.preprocessing import MinMaxScaler\n",
    "data = [[-1, 2],\n",
    "        [-0.5, 6], \n",
    "        [0, 10],\n",
    "        [1, 18]]\n",
    "scaler = MinMaxScaler(copy = True, feature_range =(0,1))\n",
    "# scaler = MinMaxScaler(feature_range = (1,5))\n",
    "newdata = scaler.fit_transform(data)\n",
    "print(scaler.data_range_)\n",
    "print('======================')\n",
    "print(scaler.data_min_)\n",
    "print('======================')\n",
    "print(scaler.data_max_)\n",
    "print('======================')\n",
    "print('======================')\n",
    "print(newdata)"
   ]
  }
 ],
 "metadata": {
  "kernelspec": {
   "display_name": "Python 3",
   "language": "python",
   "name": "python3"
  },
  "language_info": {
   "codemirror_mode": {
    "name": "ipython",
    "version": 3
   },
   "file_extension": ".py",
   "mimetype": "text/x-python",
   "name": "python",
   "nbconvert_exporter": "python",
   "pygments_lexer": "ipython3",
   "version": "3.8.5"
  }
 },
 "nbformat": 4,
 "nbformat_minor": 4
}
