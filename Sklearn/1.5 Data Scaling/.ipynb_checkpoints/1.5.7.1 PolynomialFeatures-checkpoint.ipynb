{
 "cells": [
  {
   "cell_type": "code",
   "execution_count": null,
   "metadata": {},
   "outputs": [],
   "source": [
    "#Import Libraries\n",
    "from sklearn.preprocessing import PolynomialFeatures\n",
    "#----------------------------------------------------\n",
    "\n",
    "#Polynomial the Data\n",
    "\n",
    "scaler = PolynomialFeatures(degree=3, include_bias=True, interaction_only=False)\n",
    "X = scaler.fit_transform(X)\n",
    "\n",
    "#showing data\n",
    "print('X \\n' , X[:10])\n",
    "print('y \\n' , y[:10])"
   ]
  },
  {
   "cell_type": "code",
   "execution_count": 5,
   "metadata": {},
   "outputs": [
    {
     "data": {
      "text/plain": [
       "array([[  1.,   0.,   1.,   0.,   0.,   1.,   0.,   0.,   0.,   1.],\n",
       "       [  1.,   2.,   3.,   4.,   6.,   9.,   8.,  12.,  18.,  27.],\n",
       "       [  1.,   4.,   5.,  16.,  20.,  25.,  64.,  80., 100., 125.],\n",
       "       [  1.,   6.,   7.,  36.,  42.,  49., 216., 252., 294., 343.],\n",
       "       [  1.,   8.,   9.,  64.,  72.,  81., 512., 576., 648., 729.]])"
      ]
     },
     "execution_count": 5,
     "metadata": {},
     "output_type": "execute_result"
    }
   ],
   "source": [
    "import numpy as np\n",
    "from sklearn.preprocessing import PolynomialFeatures\n",
    "X = np.arange(10).reshape(5, 2)\n",
    "\n",
    "poly = PolynomialFeatures(degree=3, include_bias=True, interaction_only=False)\n",
    "\n",
    "poly.fit_transform(X)"
   ]
  },
  {
   "cell_type": "code",
   "execution_count": null,
   "metadata": {},
   "outputs": [],
   "source": []
  }
 ],
 "metadata": {
  "kernelspec": {
   "display_name": "Python 3",
   "language": "python",
   "name": "python3"
  },
  "language_info": {
   "codemirror_mode": {
    "name": "ipython",
    "version": 3
   },
   "file_extension": ".py",
   "mimetype": "text/x-python",
   "name": "python",
   "nbconvert_exporter": "python",
   "pygments_lexer": "ipython3",
   "version": "3.8.5"
  }
 },
 "nbformat": 4,
 "nbformat_minor": 4
}
