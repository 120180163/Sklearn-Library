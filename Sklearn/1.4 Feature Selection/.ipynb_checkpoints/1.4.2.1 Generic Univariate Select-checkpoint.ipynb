{
 "cells": [
  {
   "cell_type": "code",
   "execution_count": null,
   "metadata": {},
   "outputs": [],
   "source": [
    "#Import Libraries\n",
    "from sklearn.feature_selection import GenericUnivariateSelect\n",
    "from sklearn.feature_selection import chi2 , f_classif \n",
    "\n",
    "\n",
    "Feature Selection by Generic\n",
    "#print('Original X Shape is ' , X.shape)\n",
    "FeatureSelection = GenericUnivariateSelect(score_func= chi2, mode= 'k_best', param=3) # score_func can = f_classif : mode can = percentile,fpr,fdr,fwe \n",
    "X = FeatureSelection.fit_transform(X, y)\n",
    "\n",
    "#showing X Dimension \n",
    "#print('X Shape is ' , X.shape)\n",
    "#print('Selected Features are : ' , FeatureSelection.get_support())"
   ]
  }
 ],
 "metadata": {
  "kernelspec": {
   "display_name": "Python 3",
   "language": "python",
   "name": "python3"
  },
  "language_info": {
   "codemirror_mode": {
    "name": "ipython",
    "version": 3
   },
   "file_extension": ".py",
   "mimetype": "text/x-python",
   "name": "python",
   "nbconvert_exporter": "python",
   "pygments_lexer": "ipython3",
   "version": "3.8.5"
  }
 },
 "nbformat": 4,
 "nbformat_minor": 4
}
