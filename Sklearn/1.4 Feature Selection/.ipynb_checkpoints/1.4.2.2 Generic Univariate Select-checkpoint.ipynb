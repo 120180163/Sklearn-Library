{
 "cells": [
  {
   "cell_type": "code",
   "execution_count": 7,
   "metadata": {},
   "outputs": [
    {
     "name": "stdout",
     "output_type": "stream",
     "text": [
      "(569, 30)\n",
      "<<<<<<<<<<<<>>>>>>>>>>\n",
      "(569, 10)\n",
      "<<<<<<<<<<<<>>>>>>>>>>\n"
     ]
    }
   ],
   "source": [
    "from sklearn.datasets import load_breast_cancer\n",
    "from sklearn.feature_selection import GenericUnivariateSelect, chi2\n",
    "\n",
    "X, y = load_breast_cancer(return_X_y = True)\n",
    "print(X.shape)\n",
    "print('<<<<<<<<<<<<>>>>>>>>>>')\n",
    "\n",
    "transformer = GenericUnivariateSelect(score_func= chi2, mode= 'k_best', param = 10).fit_transform(X, y)\n",
    "print(transformer.shape)\n",
    "print('<<<<<<<<<<<<>>>>>>>>>>')\n",
    "# transformer.get_support()"
   ]
  },
  {
   "cell_type": "code",
   "execution_count": null,
   "metadata": {},
   "outputs": [],
   "source": []
  }
 ],
 "metadata": {
  "kernelspec": {
   "display_name": "Python 3",
   "language": "python",
   "name": "python3"
  },
  "language_info": {
   "codemirror_mode": {
    "name": "ipython",
    "version": 3
   },
   "file_extension": ".py",
   "mimetype": "text/x-python",
   "name": "python",
   "nbconvert_exporter": "python",
   "pygments_lexer": "ipython3",
   "version": "3.8.5"
  }
 },
 "nbformat": 4,
 "nbformat_minor": 4
}
