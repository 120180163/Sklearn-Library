{
 "cells": [
  {
   "cell_type": "code",
   "execution_count": null,
   "metadata": {},
   "outputs": [],
   "source": [
    "#Import Libraries\n",
    "from sklearn.feature_selection import SelectKBest\n",
    "from sklearn.feature_selection import chi2 , f_classif \n",
    "#----------------------------------------------------\n",
    "\n",
    "#----------------------------------------------------\n",
    "#Feature Selection by KBest \n",
    "#print('Original X Shape is ' , X.shape)\n",
    "FeatureSelection = SelectKBest(score_func= chi2 ,k=3) # score_func can = f_classif \n",
    "X = FeatureSelection.fit_transform(X, y)\n",
    "\n",
    "#showing X Dimension \n",
    "#print('X Shape is ' , X.shape)\n",
    "#print('Selected Features are : ' , FeatureSelection.get_support())\n"
   ]
  }
 ],
 "metadata": {
  "kernelspec": {
   "display_name": "Python 3",
   "language": "python",
   "name": "python3"
  },
  "language_info": {
   "codemirror_mode": {
    "name": "ipython",
    "version": 3
   },
   "file_extension": ".py",
   "mimetype": "text/x-python",
   "name": "python",
   "nbconvert_exporter": "python",
   "pygments_lexer": "ipython3",
   "version": "3.8.5"
  }
 },
 "nbformat": 4,
 "nbformat_minor": 4
}
