{
 "cells": [
  {
   "cell_type": "code",
   "execution_count": 2,
   "metadata": {},
   "outputs": [],
   "source": [
    "#Import Libraries\n",
    "import numpy as np\n",
    "from sklearn.ensemble import RandomForestRegressor\n",
    "from sklearn.datasets import make_regression"
   ]
  },
  {
   "cell_type": "code",
   "execution_count": 3,
   "metadata": {},
   "outputs": [],
   "source": [
    "#Splitting data\n",
    "X, y = make_regression(n_features=4, n_informative=2, random_state=0, shuffle=False)"
   ]
  },
  {
   "cell_type": "code",
   "execution_count": 4,
   "metadata": {},
   "outputs": [],
   "source": [
    "#Applying Random Forest Regressor Model \n",
    "RandomForestRegressorModel = RandomForestRegressor(n_estimators=100, max_depth=2, random_state=0)"
   ]
  },
  {
   "cell_type": "code",
   "execution_count": 5,
   "metadata": {},
   "outputs": [
    {
     "data": {
      "text/plain": [
       "RandomForestRegressor(max_depth=2, random_state=0)"
      ]
     },
     "execution_count": 5,
     "metadata": {},
     "output_type": "execute_result"
    }
   ],
   "source": [
    "RandomForestRegressorModel.fit(X, y)"
   ]
  },
  {
   "cell_type": "code",
   "execution_count": 6,
   "metadata": {},
   "outputs": [
    {
     "name": "stdout",
     "output_type": "stream",
     "text": [
      "[0.18146984 0.81473937 0.00145312 0.00233767]\n"
     ]
    }
   ],
   "source": [
    "print(RandomForestRegressorModel.feature_importances_)"
   ]
  },
  {
   "cell_type": "code",
   "execution_count": 8,
   "metadata": {},
   "outputs": [
    {
     "name": "stdout",
     "output_type": "stream",
     "text": [
      "[-8.32987858]\n"
     ]
    }
   ],
   "source": [
    "#Calculating Prediction\n",
    "print(RandomForestRegressorModel.predict([[0, 0, 0, 0]]))"
   ]
  },
  {
   "cell_type": "code",
   "execution_count": 10,
   "metadata": {},
   "outputs": [
    {
     "name": "stdout",
     "output_type": "stream",
     "text": [
      "[0.38, 0.02, 0.05, 0.32]        [-2.98]\n",
      "[0.73, 0.27, 0.68, 0.01]        [16.57]\n",
      "[0.49, 0.69, 0.3, 0.25]        [19.54]\n",
      "[0.32, 0.01, 0.18, 0.1]        [-2.98]\n",
      "[0.94, 0.4, 0.27, 0.62]        [25.16]\n",
      "[0.32, 0.03, 0.74, 0.32]        [-2.98]\n",
      "[0.85, 0.17, 0.29, 0.76]        [12.87]\n",
      "[0.39, 0.63, 0.74, 0.71]        [18.27]\n",
      "[0.08, 0.88, 0.99, 0.77]        [20.88]\n",
      "[0.4, 0.23, 0.88, 0.23]        [8.59]\n",
      "[0.41, 0.5, 0.18, 0.66]        [17.86]\n",
      "[0.76, 0.13, 0.82, 0.72]        [10.13]\n",
      "[0.84, 0.44, 0.23, 0.69]        [25.16]\n",
      "[0.16, 0.9, 0.98, 0.25]        [21.7]\n",
      "[0.36, 0.32, 0.94, 0.08]        [14.32]\n",
      "[0.9, 0.13, 0.92, 0.05]        [12.26]\n",
      "[0.73, 0.39, 0.78, 0.12]        [20.47]\n",
      "[0.23, 0.87, 0.75, 0.06]        [20.88]\n",
      "[0.66, 0.16, 0.32, 0.39]        [10.2]\n",
      "[0.6, 0.6, 0.53, 0.89]        [19.54]\n"
     ]
    }
   ],
   "source": [
    "for i in range(20):\n",
    "    l = list(np.round(np.random.random(4),2))\n",
    "    print(l , '      ' ,np.round(RandomForestRegressorModel.predict([ l ]),2))"
   ]
  },
  {
   "cell_type": "code",
   "execution_count": null,
   "metadata": {},
   "outputs": [],
   "source": []
  }
 ],
 "metadata": {
  "kernelspec": {
   "display_name": "Python 3",
   "language": "python",
   "name": "python3"
  },
  "language_info": {
   "codemirror_mode": {
    "name": "ipython",
    "version": 3
   },
   "file_extension": ".py",
   "mimetype": "text/x-python",
   "name": "python",
   "nbconvert_exporter": "python",
   "pygments_lexer": "ipython3",
   "version": "3.8.5"
  }
 },
 "nbformat": 4,
 "nbformat_minor": 4
}
