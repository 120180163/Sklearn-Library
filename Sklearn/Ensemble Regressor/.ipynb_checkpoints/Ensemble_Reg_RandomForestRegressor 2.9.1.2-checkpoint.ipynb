{
 "cells": [
  {
   "cell_type": "code",
   "execution_count": 10,
   "metadata": {},
   "outputs": [],
   "source": [
    "#Import Libraries\n",
    "from sklearn.datasets import load_boston\n",
    "from sklearn.model_selection import train_test_split\n",
    "from sklearn.ensemble import RandomForestRegressor\n",
    "from sklearn.metrics import mean_absolute_error \n",
    "from sklearn.metrics import mean_squared_error \n",
    "from sklearn.metrics import median_absolute_error"
   ]
  },
  {
   "cell_type": "code",
   "execution_count": 11,
   "metadata": {},
   "outputs": [],
   "source": [
    "#load boston data\n",
    "\n",
    "BostonData = load_boston()\n",
    "\n",
    "#X Data\n",
    "X = BostonData.data\n",
    "#print('X Data is \\n' , X[:10])\n",
    "#print('X shape is ' , X.shape)\n",
    "#print('X Features are \\n' , BostonData.feature_names)\n",
    "\n",
    "#y Data\n",
    "y = BostonData.target\n",
    "#print('y Data is \\n' , y[:10])\n",
    "#print('y shape is ' , y.shape)"
   ]
  },
  {
   "cell_type": "code",
   "execution_count": 12,
   "metadata": {},
   "outputs": [],
   "source": [
    "#Splitting data\n",
    "\n",
    "X_train, X_test, y_train, y_test = train_test_split(X, y, test_size=0.30, random_state=44, shuffle=True)\n",
    "#Splitted Data\n",
    "#print('X_train shape is ' , X_train.shape)\n",
    "#print('X_test shape is ' , X_test.shape)\n",
    "#print('y_train shape is ' , y_train.shape)\n",
    "#print('y_test shape is ' , y_test.shape)"
   ]
  },
  {
   "cell_type": "code",
   "execution_count": 13,
   "metadata": {},
   "outputs": [
    {
     "data": {
      "text/plain": [
       "RandomForestRegressor(max_depth=2, random_state=44)"
      ]
     },
     "execution_count": 13,
     "metadata": {},
     "output_type": "execute_result"
    }
   ],
   "source": [
    "#Applying Random Forest Regressor Model \n",
    "\n",
    "'''\n",
    "sklearn.ensemble.RandomForestRegressor(n_estimators='warn', criterion=’mse’, max_depth=None,\n",
    "                                       min_samples_split=2, min_samples_leaf=1,min_weight_fraction_leaf=0.0,\n",
    "                                       max_features=’auto’, max_leaf_nodes=None,min_impurity_decrease=0.0,\n",
    "                                       min_impurity_split=None, bootstrap=True,oob_score=False, n_jobs=None,\n",
    "                                       random_state=None, verbose=0,warm_start=False)\n",
    "'''\n",
    "\n",
    "RandomForestRegressorModel = RandomForestRegressor(n_estimators = 100, max_depth=2, random_state=44)\n",
    "RandomForestRegressorModel.fit(X_train, y_train)"
   ]
  },
  {
   "cell_type": "code",
   "execution_count": 14,
   "metadata": {},
   "outputs": [
    {
     "name": "stdout",
     "output_type": "stream",
     "text": [
      "Random Forest Regressor Train Score is :  0.7698802880864155\n",
      "Random Forest Regressor Test Score is :  0.7498968177883764\n",
      "Random Forest Regressor No. of features are :  13\n"
     ]
    }
   ],
   "source": [
    "#Calculating Details\n",
    "print('Random Forest Regressor Train Score is : ', RandomForestRegressorModel.score(X_train, y_train))\n",
    "print('Random Forest Regressor Test Score is : ', RandomForestRegressorModel.score(X_test, y_test))\n",
    "print('Random Forest Regressor No. of features are : ' , RandomForestRegressorModel.n_features_)"
   ]
  },
  {
   "cell_type": "code",
   "execution_count": 15,
   "metadata": {},
   "outputs": [
    {
     "name": "stdout",
     "output_type": "stream",
     "text": [
      "Predicted Value for Random Forest Regressor is :  [14.69703469 14.69703469 21.77891844 25.51942908 17.78466931]\n"
     ]
    }
   ],
   "source": [
    "#Calculating Prediction\n",
    "y_pred = RandomForestRegressorModel.predict(X_test)\n",
    "print('Predicted Value for Random Forest Regressor is : ' , y_pred[0:5])"
   ]
  },
  {
   "cell_type": "code",
   "execution_count": 16,
   "metadata": {},
   "outputs": [
    {
     "name": "stdout",
     "output_type": "stream",
     "text": [
      "Mean Absolute Error Value is :  3.459053729472056\n"
     ]
    }
   ],
   "source": [
    "#Calculating Mean Absolute Error\n",
    "MAEValue = mean_absolute_error(y_test, y_pred, multioutput='uniform_average') # it can be raw_values\n",
    "print('Mean Absolute Error Value is : ', MAEValue)"
   ]
  },
  {
   "cell_type": "code",
   "execution_count": 17,
   "metadata": {},
   "outputs": [
    {
     "name": "stdout",
     "output_type": "stream",
     "text": [
      "Mean Squared Error Value is :  21.729772347990824\n"
     ]
    }
   ],
   "source": [
    "#----------------------------------------------------\n",
    "#Calculating Mean Squared Error\n",
    "MSEValue = mean_squared_error(y_test, y_pred, multioutput='uniform_average') # it can be raw_values\n",
    "print('Mean Squared Error Value is : ', MSEValue)"
   ]
  },
  {
   "cell_type": "code",
   "execution_count": 18,
   "metadata": {},
   "outputs": [
    {
     "name": "stdout",
     "output_type": "stream",
     "text": [
      "Median Squared Error Value is :  2.690320020892851\n"
     ]
    }
   ],
   "source": [
    "#----------------------------------------------------\n",
    "#Calculating Median Squared Error\n",
    "MdSEValue = median_absolute_error(y_test, y_pred)\n",
    "print('Median Squared Error Value is : ', MdSEValue )"
   ]
  },
  {
   "cell_type": "code",
   "execution_count": null,
   "metadata": {},
   "outputs": [],
   "source": []
  }
 ],
 "metadata": {
  "kernelspec": {
   "display_name": "Python 3",
   "language": "python",
   "name": "python3"
  },
  "language_info": {
   "codemirror_mode": {
    "name": "ipython",
    "version": 3
   },
   "file_extension": ".py",
   "mimetype": "text/x-python",
   "name": "python",
   "nbconvert_exporter": "python",
   "pygments_lexer": "ipython3",
   "version": "3.8.5"
  }
 },
 "nbformat": 4,
 "nbformat_minor": 4
}
