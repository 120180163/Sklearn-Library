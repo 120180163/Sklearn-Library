{
 "cells": [
  {
   "cell_type": "code",
   "execution_count": 1,
   "metadata": {},
   "outputs": [],
   "source": [
    "#Import Libraries\n",
    "import numpy as np\n",
    "import pandas as pd"
   ]
  },
  {
   "cell_type": "code",
   "execution_count": 2,
   "metadata": {},
   "outputs": [],
   "source": [
    "#load houses data\n",
    "dataset_houses = pd.read_csv(\"houses.csv\")"
   ]
  },
  {
   "cell_type": "code",
   "execution_count": 4,
   "metadata": {},
   "outputs": [],
   "source": [
    "#X & Y Data\n",
    "\n",
    "X = dataset_houses.iloc[:, :-1].values\n",
    "y = dataset_houses.iloc[:, -1].values"
   ]
  },
  {
   "cell_type": "code",
   "execution_count": 5,
   "metadata": {},
   "outputs": [],
   "source": [
    "from sklearn.impute import SimpleImputer\n",
    "imp = SimpleImputer(missing_values=np.nan, strategy='mean')\n",
    "imp = imp.fit_transform(X)"
   ]
  },
  {
   "cell_type": "code",
   "execution_count": 6,
   "metadata": {},
   "outputs": [],
   "source": [
    "#Splitting data\n",
    "from sklearn.model_selection import train_test_split\n",
    "X_train, X_test, y_train, y_test = train_test_split(X, y, test_size=0.30, random_state=44, shuffle=True)"
   ]
  },
  {
   "cell_type": "code",
   "execution_count": 17,
   "metadata": {},
   "outputs": [],
   "source": [
    "# Fitting Random Forest Regression to the dataset\n",
    "from sklearn.ensemble import RandomForestRegressor\n",
    "\n",
    "RandomForestRegressorModel = RandomForestRegressor(n_estimators=2000, max_depth=6, random_state=0)"
   ]
  },
  {
   "cell_type": "code",
   "execution_count": 18,
   "metadata": {},
   "outputs": [],
   "source": [
    "#Splitting data\n",
    "X_train, X_test, y_train, y_test = train_test_split(X, y, test_size=0.33, random_state=42)"
   ]
  },
  {
   "cell_type": "code",
   "execution_count": 19,
   "metadata": {},
   "outputs": [
    {
     "data": {
      "text/plain": [
       "RandomForestRegressor(max_depth=6, n_estimators=2000, random_state=0)"
      ]
     },
     "execution_count": 19,
     "metadata": {},
     "output_type": "execute_result"
    }
   ],
   "source": [
    "#Applying Random Forest Regressor Model \n",
    "RandomForestRegressorModel.fit(X_train, y_train)"
   ]
  },
  {
   "cell_type": "code",
   "execution_count": 20,
   "metadata": {},
   "outputs": [
    {
     "name": "stdout",
     "output_type": "stream",
     "text": [
      "Random Forest Regressor Train Score is :  0.9269826892942801\n",
      "Random Forest Regressor Test Score is :  0.7871971527846512\n",
      "Random Forest Regressor No. of features are :  15\n"
     ]
    }
   ],
   "source": [
    "#Calculating Details\n",
    "print('Random Forest Regressor Train Score is : ' , RandomForestRegressorModel.score(X_train, y_train))\n",
    "print('Random Forest Regressor Test Score is : ' , RandomForestRegressorModel.score(X_test, y_test))\n",
    "print('Random Forest Regressor No. of features are : ' , RandomForestRegressorModel.n_features_)"
   ]
  },
  {
   "cell_type": "code",
   "execution_count": 21,
   "metadata": {},
   "outputs": [
    {
     "name": "stdout",
     "output_type": "stream",
     "text": [
      "[ 66.88417217  25.81768186  58.15589796  87.85101626  35.86397063\n",
      "  57.31614379  52.06631136  93.74501934 115.26355965  44.36653839\n",
      " 114.68261139  40.36227674  61.47037955  45.10911666  30.30206973\n",
      " 150.74881571  41.84455354  37.49076355  54.77778405  23.8867167\n",
      "  29.50948417  28.20471564  66.95757276  47.3431487   69.87722338\n",
      "  37.54765351  60.84538757  53.72117691  50.14695886  61.27735987\n",
      "  25.59593752  54.24936838  24.06503606  33.38432183  23.1882454\n",
      "  78.1186871   24.74980444  50.65943575  41.09464124  76.08632256\n",
      "  26.00800454  58.90647258  35.32578281  28.78527114  25.9433279\n",
      "  29.75960377  41.03439766  53.38791262  49.22328835  55.89625479\n",
      "  52.84728232  78.55860559  60.46032425  23.04787592  63.154417\n",
      "  69.29592057  89.74691929  35.20994111  29.578314    47.04997647\n",
      "  80.68749168  26.03495284  85.8773597   51.513966    65.54783113\n",
      "  48.11401444  41.0329522   37.39198593  58.48860541  29.48108172\n",
      "  28.33649402  23.42244346  24.17421631  68.2848917   24.82796904\n",
      "  47.54292287  47.71736502  28.07327483  53.04488267  78.25680181\n",
      "  76.33995173  74.99303535  33.00535455  40.41198887  30.49733429\n",
      "  28.19932553  24.76321299  36.02056762  54.12147781  30.79252866\n",
      "  29.9151616   51.42605421  41.84455354  30.77191971  56.60585768\n",
      "  33.87443262  52.24105532  26.08206158  31.23784018  34.91678689\n",
      " 102.46217825  72.30070448  29.76605015  51.93691384  50.03262233\n",
      "  36.8470566   25.5541216   38.11493897  45.09889408  40.71558427\n",
      "  38.93626829  48.9260202   33.76353768  32.38229907  43.39254517\n",
      "  66.36608738  23.88346266  24.06165875  66.63980839  95.36654262\n",
      "  25.28472197  65.51704544  24.20555491  45.16637077 107.68867422\n",
      "  38.97233351  27.98755424  32.66783097  71.1330358   50.34595548\n",
      "  25.42303683  24.30654593  42.00737763  83.06040132  54.07505246\n",
      "  56.41355671  25.27279713  68.66234906  24.38836015  72.4411769\n",
      "  33.64205893  35.05749497  60.71772999 118.40417771  75.37120402\n",
      "  25.18459296  73.81003651  28.75151037  54.38800761  58.16266428\n",
      "  28.89314534  61.37346229 134.21423433  47.53842983  26.4061541\n",
      "  44.58630135  49.39993279  31.92975861  53.46194914  60.6415104\n",
      "  27.8246926   29.61491707  24.9313529   76.05645174  39.23848232\n",
      "  57.20502457  30.29726434  24.11615879  28.03355554  60.8124523\n",
      "  34.82225643  25.35310913 113.39726319  70.82949859  42.27890195\n",
      "  43.21102017  27.53064871  48.93847147  69.41962836  58.66036792\n",
      "  35.33202197  52.41207793  54.36767509  64.27575447  23.80000603\n",
      "  26.58896278  25.32906128  35.22561387  24.62607094  38.36950947\n",
      "  24.95519273 175.68312095  35.36322513  63.01164679  23.59934874\n",
      "  38.36974424  62.97954617  78.2147816   25.6639583   38.05059281\n",
      "  35.44049133  52.68810778  41.57330169  71.09578265  68.98680148\n",
      "  50.09059989  79.83592686  78.99859187  52.40001192  61.14064164\n",
      " 111.72462754  73.84291696  54.95298509  62.22892579 111.8886496\n",
      "  42.96520639  23.08857161  92.8641137   46.24793982  80.1971256\n",
      "  51.09499389  27.33009869  65.94551785  34.91164893  44.29600316\n",
      "  29.91892257  47.5667342   26.76003907  83.80887092  48.20674602\n",
      "  49.79743811  36.35969059  44.30068125  56.01753071  69.0678818\n",
      "  30.63471491  33.44992373  24.51277071  26.42931274  59.19713745\n",
      "  57.29032477  59.98064688  78.95201016  41.23650219  36.5590412\n",
      "  39.15957773  48.758993   167.78377932 155.42419611  30.64764707\n",
      "  47.74754246  67.03169404 142.20566919  28.04802308  47.10589898\n",
      "  58.40254474  42.76394228  39.04615541 146.97134216  42.18509164\n",
      "  69.28870067  24.27230987  30.68605365  54.3579832   50.81946897\n",
      "  49.58990256  46.68510474  36.13185886  54.59351622  24.18164822\n",
      "  30.99122683  31.0819192   28.08435605  28.3988956   31.44223435\n",
      "  51.48459896  25.13047597  29.69305339  53.30660291  35.16186934\n",
      "  24.93398793  86.59371822  48.37919175  45.16283715  35.81042706\n",
      "  54.13569788  35.67280063  26.53164969  33.75998249  46.41110939\n",
      "  82.94556314  48.11019478  40.7833538   36.85930087  31.70871563\n",
      " 133.30909852  30.64381544  25.46698626  24.33265923  32.34576239\n",
      "  28.35195778  22.89940838 116.14378     53.19581955  51.94390668\n",
      "  51.93670229  29.66594507  26.9201215   38.70728068  30.99242022\n",
      "  70.78830971  71.66353879  41.72680725  23.45935745  34.85635161\n",
      "  28.79628556  47.32314869  49.60644718  70.1455856   62.48741398\n",
      "  33.96012258  49.57878782  78.63087903  24.35917252  40.04789371\n",
      "  55.68176607  30.46420304  23.28454647  53.49527713  24.44182446]\n"
     ]
    }
   ],
   "source": [
    "# Predicting a new result\n",
    "y_pred = RandomForestRegressorModel.predict(X_test)\n",
    "print(y_pred)"
   ]
  },
  {
   "cell_type": "code",
   "execution_count": null,
   "metadata": {},
   "outputs": [],
   "source": []
  }
 ],
 "metadata": {
  "kernelspec": {
   "display_name": "Python 3",
   "language": "python",
   "name": "python3"
  },
  "language_info": {
   "codemirror_mode": {
    "name": "ipython",
    "version": 3
   },
   "file_extension": ".py",
   "mimetype": "text/x-python",
   "name": "python",
   "nbconvert_exporter": "python",
   "pygments_lexer": "ipython3",
   "version": "3.8.5"
  }
 },
 "nbformat": 4,
 "nbformat_minor": 4
}
