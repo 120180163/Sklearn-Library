{
 "cells": [
  {
   "cell_type": "code",
   "execution_count": 1,
   "metadata": {},
   "outputs": [],
   "source": [
    "# Import Libraries\n",
    "from sklearn.neural_network import MLPRegressor"
   ]
  },
  {
   "cell_type": "code",
   "execution_count": null,
   "metadata": {},
   "outputs": [],
   "source": [
    "#Applying MLPRegressor Model \n",
    "\n",
    "'''\n",
    "sklearn.neural_network.MLPRegressor(hidden_layer_sizes=(100, ), activation='relu’, solver=’adam’,\n",
    "                                    alpha=0.0001,batch_size='auto’, learning_rate=’constant’,\n",
    "                                    learning_rate_init=0.001, power_t=0.5,max_iter=200, shuffle=True,\n",
    "                                    random_state=None,tol=0.0001, verbose=False, warm_start=False,\n",
    "                                    momentum=0.9, nesterovs_momentum=True,early_stopping=False,\n",
    "                                    validation_fraction=0.1,beta_1=0.9, beta_2=0.999, epsilon=1E-08,\n",
    "                                    n_iter_no_change=10)"
   ]
  },
  {
   "cell_type": "code",
   "execution_count": null,
   "metadata": {},
   "outputs": [],
   "source": [
    "MLPRegressorModel = MLPRegressor(activation='tanh', # can be also identity , logistic , relu\n",
    "                                 solver='lbfgs',  # can be also sgd , adam\n",
    "                                 learning_rate='constant', # can be also invscaling , adaptive\n",
    "                                 early_stopping= False,\n",
    "                                 alpha=0.0001 ,hidden_layer_sizes=(100, 3),random_state=33)\n",
    "MLPRegressorModel.fit(X_train, y_train)\n",
    "\n",
    "#Calculating Details\n",
    "print('MLPRegressorModel Train Score is : ' , MLPRegressorModel.score(X_train, y_train))\n",
    "print('MLPRegressorModel Test Score is : ' , MLPRegressorModel.score(X_test, y_test))\n",
    "print('MLPRegressorModel loss is : ' , MLPRegressorModel.loss_)\n",
    "print('MLPRegressorModel No. of iterations is : ' , MLPRegressorModel.n_iter_)\n",
    "print('MLPRegressorModel No. of layers is : ' , MLPRegressorModel.n_layers_)\n",
    "print('MLPRegressorModel last activation is : ' , MLPRegressorModel.out_activation_)\n",
    "#print('----------------------------------------------------')\n",
    "\n",
    "#Calculating Prediction\n",
    "y_pred = MLPRegressorModel.predict(X_test)\n",
    "print('Predicted Value for MLPRegressorModel is : ' , y_pred[:10])"
   ]
  }
 ],
 "metadata": {
  "kernelspec": {
   "display_name": "Python 3",
   "language": "python",
   "name": "python3"
  },
  "language_info": {
   "codemirror_mode": {
    "name": "ipython",
    "version": 3
   },
   "file_extension": ".py",
   "mimetype": "text/x-python",
   "name": "python",
   "nbconvert_exporter": "python",
   "pygments_lexer": "ipython3",
   "version": "3.8.5"
  }
 },
 "nbformat": 4,
 "nbformat_minor": 4
}
