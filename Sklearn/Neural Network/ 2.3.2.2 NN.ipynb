{
 "cells": [
  {
   "cell_type": "code",
   "execution_count": 2,
   "metadata": {},
   "outputs": [],
   "source": [
    "#Import Libraries\n",
    "from sklearn.datasets import load_iris\n",
    "from sklearn.model_selection import train_test_split\n",
    "from sklearn.neural_network import MLPClassifier\n",
    "from sklearn.metrics import confusion_matrix\n",
    "import seaborn as sns\n",
    "import matplotlib.pyplot as plt"
   ]
  },
  {
   "cell_type": "code",
   "execution_count": 3,
   "metadata": {},
   "outputs": [],
   "source": [
    "#load iris data\n",
    "\n",
    "IrisData = load_iris()\n",
    "\n",
    "#X Data\n",
    "X = IrisData.data\n",
    "\n",
    "#y Data\n",
    "y = IrisData.target"
   ]
  },
  {
   "cell_type": "code",
   "execution_count": 4,
   "metadata": {},
   "outputs": [],
   "source": [
    "#Splitting data\n",
    "\n",
    "X_train, X_test, y_train, y_test = train_test_split(X, y, test_size=0.33, random_state=44, shuffle =True)"
   ]
  },
  {
   "cell_type": "code",
   "execution_count": 20,
   "metadata": {},
   "outputs": [],
   "source": [
    "#Applying MLPClassifier Model \n",
    "MLPClassifierModel = MLPClassifier(activation='relu', # can be also identity , logistic , relu\n",
    "                                   solver='adam',  # can be also sgd , adam\n",
    "                                   learning_rate='constant', # can be also invscaling , adaptive\n",
    "                                   early_stopping= False,\n",
    "                                   alpha=0.0001 ,hidden_layer_sizes=(100, 3),random_state=33)"
   ]
  },
  {
   "cell_type": "code",
   "execution_count": 21,
   "metadata": {},
   "outputs": [
    {
     "name": "stderr",
     "output_type": "stream",
     "text": [
      "/Users/khalednada/opt/anaconda3/lib/python3.8/site-packages/sklearn/neural_network/_multilayer_perceptron.py:614: ConvergenceWarning: Stochastic Optimizer: Maximum iterations (200) reached and the optimization hasn't converged yet.\n",
      "  warnings.warn(\n"
     ]
    },
    {
     "data": {
      "text/plain": [
       "MLPClassifier(hidden_layer_sizes=(100, 3), random_state=33)"
      ]
     },
     "execution_count": 21,
     "metadata": {},
     "output_type": "execute_result"
    }
   ],
   "source": [
    "MLPClassifierModel.fit(X_train, y_train)"
   ]
  },
  {
   "cell_type": "code",
   "execution_count": 22,
   "metadata": {},
   "outputs": [
    {
     "name": "stdout",
     "output_type": "stream",
     "text": [
      "MLPClassifierModel Train Score is :  0.97\n",
      "MLPClassifierModel Test Score is :  1.0\n",
      "MLPClassifierModel loss is :  0.251581258404672\n",
      "MLPClassifierModel No. of iterations is :  200\n",
      "MLPClassifierModel No. of layers is :  4\n",
      "MLPClassifierModel last activation is :  softmax\n"
     ]
    }
   ],
   "source": [
    "#Calculating Details\n",
    "print('MLPClassifierModel Train Score is : ' , MLPClassifierModel.score(X_train, y_train))\n",
    "print('MLPClassifierModel Test Score is : ' , MLPClassifierModel.score(X_test, y_test))\n",
    "print('MLPClassifierModel loss is : ' , MLPClassifierModel.loss_)\n",
    "print('MLPClassifierModel No. of iterations is : ' , MLPClassifierModel.n_iter_)\n",
    "print('MLPClassifierModel No. of layers is : ' , MLPClassifierModel.n_layers_)\n",
    "print('MLPClassifierModel last activation is : ' , MLPClassifierModel.out_activation_)"
   ]
  },
  {
   "cell_type": "code",
   "execution_count": 23,
   "metadata": {},
   "outputs": [
    {
     "name": "stdout",
     "output_type": "stream",
     "text": [
      "Predicted Value for MLPClassifierModel is :  [2 0 1 1 2 0 2 2 2 1]\n",
      "Prediction Probabilities Value for MLPClassifierModel is :  [[1.47847792e-03 1.15663878e-01 8.82857644e-01]\n",
      " [9.29727446e-01 6.48011664e-02 5.47138719e-03]\n",
      " [7.02392285e-02 8.13224308e-01 1.16536464e-01]\n",
      " [2.60458599e-02 7.85309729e-01 1.88644411e-01]\n",
      " [1.32581285e-03 1.10676149e-01 8.87998038e-01]\n",
      " [9.31995315e-01 6.17412494e-02 6.26343594e-03]\n",
      " [2.01218789e-04 4.18150905e-02 9.57983691e-01]\n",
      " [1.26039773e-03 2.05349200e-01 7.93390402e-01]\n",
      " [1.66651353e-03 1.88923548e-01 8.09409939e-01]\n",
      " [1.86256185e-02 6.39172885e-01 3.42201496e-01]]\n"
     ]
    }
   ],
   "source": [
    "#Calculating Prediction\n",
    "y_pred = MLPClassifierModel.predict(X_test)\n",
    "y_pred_prob = MLPClassifierModel.predict_proba(X_test)\n",
    "print('Predicted Value for MLPClassifierModel is : ' , y_pred[:10])\n",
    "print('Prediction Probabilities Value for MLPClassifierModel is : ' , y_pred_prob[:10])"
   ]
  },
  {
   "cell_type": "code",
   "execution_count": 24,
   "metadata": {},
   "outputs": [
    {
     "name": "stdout",
     "output_type": "stream",
     "text": [
      "Confusion Matrix is : \n",
      " [[18  0  0]\n",
      " [ 0 15  0]\n",
      " [ 0  0 17]]\n"
     ]
    }
   ],
   "source": [
    "#Calculating Confusion Matrix\n",
    "CM = confusion_matrix(y_test, y_pred)\n",
    "print('Confusion Matrix is : \\n', CM)"
   ]
  },
  {
   "cell_type": "code",
   "execution_count": null,
   "metadata": {},
   "outputs": [],
   "source": [
    "\"\"\"\n",
    "When using activation='tanh' and solver='lbfgs'\n",
    "\n",
    "This will be the result\n",
    "\"\"\"\n",
    "\n",
    "'''\n",
    "Confusion Matrix is : \n",
    " [[17  0  1]\n",
    " [ 1 11  3]\n",
    " [ 0  0 17]]\n",
    " '''"
   ]
  },
  {
   "cell_type": "code",
   "execution_count": 25,
   "metadata": {},
   "outputs": [
    {
     "data": {
      "image/png": "[encoded data removed]",
      "text/plain": [
       "<Figure size 432x288 with 2 Axes>"
      ]
     },
     "metadata": {
      "needs_background": "light"
     },
     "output_type": "display_data"
    }
   ],
   "source": [
    "# drawing confusion matrix\n",
    "sns.heatmap(CM, center = True)\n",
    "plt.show()"
   ]
  },
  {
   "cell_type": "code",
   "execution_count": null,
   "metadata": {},
   "outputs": [],
   "source": []
  }
 ],
 "metadata": {
  "kernelspec": {
   "display_name": "Python 3",
   "language": "python",
   "name": "python3"
  },
  "language_info": {
   "codemirror_mode": {
    "name": "ipython",
    "version": 3
   },
   "file_extension": ".py",
   "mimetype": "text/x-python",
   "name": "python",
   "nbconvert_exporter": "python",
   "pygments_lexer": "ipython3",
   "version": "3.8.5"
  }
 },
 "nbformat": 4,
 "nbformat_minor": 4
}
