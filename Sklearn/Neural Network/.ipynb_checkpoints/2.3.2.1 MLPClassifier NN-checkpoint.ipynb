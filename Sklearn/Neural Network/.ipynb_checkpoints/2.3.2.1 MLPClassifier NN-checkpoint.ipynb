{
 "cells": [
  {
   "cell_type": "code",
   "execution_count": 1,
   "metadata": {},
   "outputs": [],
   "source": [
    "#Import Libraries\n",
    "from sklearn.neural_network import MLPClassifier"
   ]
  },
  {
   "cell_type": "code",
   "execution_count": 2,
   "metadata": {},
   "outputs": [
    {
     "data": {
      "text/plain": [
       "\"\\nsklearn.neural_network.MLPClassifier(hidden_layer_sizes=(100, ), activation='relu’, solver=’adam’,\\n                                     alpha=0.0001,batch_size='auto’, learning_rate=’constant’,momentum=0.9,\\n                                     learning_rate_init=0.001, power_t=0.5,max_iter=200, shuffle=True,\\n                                     random_state=None, tol=0.0001, verbose=False, warm_start=False, \\n                                     n_iter_no_change=10, nesterovs_momentum=True,early_stopping=False, \\n                                     validation_fraction=0.1,beta_1=0.9, beta_2=0.999, epsilon=1E-08,)\\n\""
      ]
     },
     "execution_count": 2,
     "metadata": {},
     "output_type": "execute_result"
    }
   ],
   "source": [
    "#Applying MLPClassifier Model \n",
    "\n",
    "'''\n",
    "sklearn.neural_network.MLPClassifier(hidden_layer_sizes=(100, ), activation='relu’, solver=’adam’,\n",
    "                                     alpha=0.0001,batch_size='auto’, learning_rate=’constant’,momentum=0.9,\n",
    "                                     learning_rate_init=0.001, power_t=0.5,max_iter=200, shuffle=True,\n",
    "                                     random_state=None, tol=0.0001, verbose=False, warm_start=False, \n",
    "                                     n_iter_no_change=10, nesterovs_momentum=True,early_stopping=False, \n",
    "                                     validation_fraction=0.1,beta_1=0.9, beta_2=0.999, epsilon=1E-08,)\n",
    "'''"
   ]
  },
  {
   "cell_type": "code",
   "execution_count": null,
   "metadata": {},
   "outputs": [],
   "source": [
    "MLPClassifierModel = MLPClassifier(activation='tanh', # can be also identity , logistic , relu\n",
    "                                   solver='lbfgs',  # can be also sgd , adam\n",
    "                                   learning_rate='constant', # can be also invscaling , adaptive\n",
    "                                   early_stopping= False,\n",
    "                                   alpha=0.0001 ,hidden_layer_sizes=(100, 3),random_state=33)\n",
    "MLPClassifierModel.fit(X_train, y_train)"
   ]
  },
  {
   "cell_type": "code",
   "execution_count": null,
   "metadata": {},
   "outputs": [],
   "source": [
    "#Calculating Details\n",
    "print('MLPClassifierModel Train Score is : ' , MLPClassifierModel.score(X_train, y_train))\n",
    "print('MLPClassifierModel Test Score is : ' , MLPClassifierModel.score(X_test, y_test))\n",
    "print('MLPClassifierModel loss is : ' , MLPClassifierModel.loss_)\n",
    "print('MLPClassifierModel No. of iterations is : ' , MLPClassifierModel.n_iter_)\n",
    "print('MLPClassifierModel No. of layers is : ' , MLPClassifierModel.n_layers_)\n",
    "print('MLPClassifierModel last activation is : ' , MLPClassifierModel.out_activation_)"
   ]
  },
  {
   "cell_type": "code",
   "execution_count": null,
   "metadata": {},
   "outputs": [],
   "source": [
    "#Calculating Prediction\n",
    "y_pred = MLPClassifierModel.predict(X_test)\n",
    "y_pred_prob = MLPClassifierModel.predict_proba(X_test)\n",
    "print('Predicted Value for MLPClassifierModel is : ' , y_pred[:10])\n",
    "print('Prediction Probabilities Value for MLPClassifierModel is : ' , y_pred_prob[:10])"
   ]
  }
 ],
 "metadata": {
  "kernelspec": {
   "display_name": "Python 3",
   "language": "python",
   "name": "python3"
  },
  "language_info": {
   "codemirror_mode": {
    "name": "ipython",
    "version": 3
   },
   "file_extension": ".py",
   "mimetype": "text/x-python",
   "name": "python",
   "nbconvert_exporter": "python",
   "pygments_lexer": "ipython3",
   "version": "3.8.5"
  }
 },
 "nbformat": 4,
 "nbformat_minor": 4
}
