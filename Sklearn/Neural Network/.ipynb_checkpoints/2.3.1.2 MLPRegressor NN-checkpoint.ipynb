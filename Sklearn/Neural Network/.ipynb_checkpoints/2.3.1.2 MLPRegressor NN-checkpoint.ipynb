{
 "cells": [
  {
   "cell_type": "code",
   "execution_count": 2,
   "metadata": {},
   "outputs": [],
   "source": [
    "#Import Libraries\n",
    "from sklearn.datasets import load_boston\n",
    "from sklearn.model_selection import train_test_split\n",
    "from sklearn.neural_network import MLPRegressor\n",
    "from sklearn.metrics import mean_absolute_error \n",
    "from sklearn.metrics import mean_squared_error \n",
    "from sklearn.metrics import median_absolute_error"
   ]
  },
  {
   "cell_type": "code",
   "execution_count": 3,
   "metadata": {},
   "outputs": [],
   "source": [
    "#load boston data\n",
    "\n",
    "BostonData = load_boston()\n",
    "\n",
    "#X Data\n",
    "X = BostonData.data\n",
    "#y Data\n",
    "y = BostonData.target"
   ]
  },
  {
   "cell_type": "code",
   "execution_count": 5,
   "metadata": {},
   "outputs": [],
   "source": [
    "#Splitting data\n",
    "X_train, X_test, y_train, y_test = train_test_split(X, y, test_size=.30, random_state=44, shuffle=True)\n"
   ]
  },
  {
   "cell_type": "code",
   "execution_count": 56,
   "metadata": {},
   "outputs": [],
   "source": [
    "#Applying MLPRegressor Model \n",
    "MLPRegressorModel = MLPRegressor(activation= \"identity\", # can be also identity , logistic , relu\n",
    "                                solver=\"lbfgs\",      # can be also sgd , adam\n",
    "                                learning_rate='constant', # can be also invscaling , adaptive\n",
    "                                 early_stopping= False,\n",
    "                                alpha=0.0001, hidden_layer_sizes=(100, 3), random_state=44)"
   ]
  },
  {
   "cell_type": "code",
   "execution_count": 57,
   "metadata": {},
   "outputs": [
    {
     "name": "stderr",
     "output_type": "stream",
     "text": [
      "/Users/khalednada/opt/anaconda3/lib/python3.8/site-packages/sklearn/neural_network/_multilayer_perceptron.py:500: ConvergenceWarning: lbfgs failed to converge (status=1):\n",
      "STOP: TOTAL NO. of ITERATIONS REACHED LIMIT.\n",
      "\n",
      "Increase the number of iterations (max_iter) or scale the data as shown in:\n",
      "    https://scikit-learn.org/stable/modules/preprocessing.html\n",
      "  self.n_iter_ = _check_optimize_result(\"lbfgs\", opt_res, self.max_iter)\n"
     ]
    },
    {
     "data": {
      "text/plain": [
       "MLPRegressor(activation='identity', hidden_layer_sizes=(100, 3),\n",
       "             random_state=44, solver='lbfgs')"
      ]
     },
     "execution_count": 57,
     "metadata": {},
     "output_type": "execute_result"
    }
   ],
   "source": [
    "MLPRegressorModel.fit(X_train, y_train)"
   ]
  },
  {
   "cell_type": "code",
   "execution_count": 58,
   "metadata": {},
   "outputs": [
    {
     "name": "stdout",
     "output_type": "stream",
     "text": [
      "MLPRegressorModel Train Score is :  0.6909792729567323\n",
      "MLPRegressorModel Test Score is :  0.7496931404433071\n",
      "MLPRegressorModel loss is :  12.853513443100645\n",
      "MLPRegressorModel No. of iterations is :  200\n",
      "MLPRegressorModel No. of layers is :  4\n",
      "MLPRegressorModel last activation is :  identity\n"
     ]
    }
   ],
   "source": [
    "#Calculating Details\n",
    "print('MLPRegressorModel Train Score is : ' , MLPRegressorModel.score(X_train, y_train))\n",
    "print('MLPRegressorModel Test Score is : ' , MLPRegressorModel.score(X_test, y_test))\n",
    "print('MLPRegressorModel loss is : ' , MLPRegressorModel.loss_)\n",
    "print('MLPRegressorModel No. of iterations is : ' , MLPRegressorModel.n_iter_)\n",
    "print('MLPRegressorModel No. of layers is : ' , MLPRegressorModel.n_layers_)\n",
    "print('MLPRegressorModel last activation is : ' , MLPRegressorModel.out_activation_)"
   ]
  },
  {
   "cell_type": "code",
   "execution_count": 49,
   "metadata": {},
   "outputs": [
    {
     "name": "stdout",
     "output_type": "stream",
     "text": [
      "Predicted Value for MLPRegressorModel is :  [17.85819277 21.26797064 21.78245451 33.31465003 13.4759408  32.92793911\n",
      " 21.110858   22.47372907 29.55240959 24.73940454]\n"
     ]
    }
   ],
   "source": [
    "#Calculating Prediction\n",
    "y_pred = MLPRegressorModel.predict(X_test)\n",
    "print('Predicted Value for MLPRegressorModel is : ' , y_pred[:10])"
   ]
  },
  {
   "cell_type": "code",
   "execution_count": 50,
   "metadata": {},
   "outputs": [
    {
     "name": "stdout",
     "output_type": "stream",
     "text": [
      "Mean Absolute Error Value is :  3.317529144142535\n"
     ]
    }
   ],
   "source": [
    "#Calculating Mean Absolute Error\n",
    "MAEValue = mean_absolute_error(y_test, y_pred, multioutput='uniform_average') # it can be raw_values\n",
    "print('Mean Absolute Error Value is : ', MAEValue)\n"
   ]
  },
  {
   "cell_type": "code",
   "execution_count": 51,
   "metadata": {},
   "outputs": [
    {
     "name": "stdout",
     "output_type": "stream",
     "text": [
      "Mean Squared Error Value is :  21.747468493644227\n"
     ]
    }
   ],
   "source": [
    "#Calculating Mean Squared Error\n",
    "MSEValue = mean_squared_error(y_test, y_pred, multioutput='uniform_average') # it can be raw_values\n",
    "print('Mean Squared Error Value is : ', MSEValue)"
   ]
  },
  {
   "cell_type": "code",
   "execution_count": 52,
   "metadata": {},
   "outputs": [
    {
     "name": "stdout",
     "output_type": "stream",
     "text": [
      "Median Squared Error Value is :  2.1983165103563476\n"
     ]
    }
   ],
   "source": [
    "MdSEValue = median_absolute_error(y_test, y_pred)\n",
    "print('Median Squared Error Value is : ', MdSEValue )"
   ]
  },
  {
   "cell_type": "code",
   "execution_count": null,
   "metadata": {},
   "outputs": [],
   "source": []
  }
 ],
 "metadata": {
  "kernelspec": {
   "display_name": "Python 3",
   "language": "python",
   "name": "python3"
  },
  "language_info": {
   "codemirror_mode": {
    "name": "ipython",
    "version": 3
   },
   "file_extension": ".py",
   "mimetype": "text/x-python",
   "name": "python",
   "nbconvert_exporter": "python",
   "pygments_lexer": "ipython3",
   "version": "3.8.5"
  }
 },
 "nbformat": 4,
 "nbformat_minor": 4
}
