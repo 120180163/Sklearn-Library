{
 "cells": [
  {
   "cell_type": "code",
   "execution_count": 1,
   "metadata": {},
   "outputs": [],
   "source": [
    "from sklearn.impute import SimpleImputer\n",
    "\n",
    "\n",
    "data = [[1,2,0],\n",
    "        [3,0,1],\n",
    "        [5,0,0],\n",
    "        [0,4,6],\n",
    "        [5,0,0],\n",
    "        [4,5,5]]"
   ]
  },
  {
   "cell_type": "code",
   "execution_count": 5,
   "metadata": {},
   "outputs": [
    {
     "name": "stdout",
     "output_type": "stream",
     "text": [
      "[[1 2 1]\n",
      " [3 2 1]\n",
      " [5 2 1]\n",
      " [5 4 6]\n",
      " [5 2 1]\n",
      " [4 5 5]]\n"
     ]
    }
   ],
   "source": [
    "imp = SimpleImputer(missing_values=0, strategy='most_frequent')\n",
    "imp = imp.fit(data)\n",
    "\n",
    "\n",
    "modifieddata = imp.transform(data)\n",
    "print(modifieddata)"
   ]
  },
  {
   "cell_type": "code",
   "execution_count": null,
   "metadata": {},
   "outputs": [],
   "source": []
  }
 ],
 "metadata": {
  "kernelspec": {
   "display_name": "Python 3",
   "language": "python",
   "name": "python3"
  },
  "language_info": {
   "codemirror_mode": {
    "name": "ipython",
    "version": 3
   },
   "file_extension": ".py",
   "mimetype": "text/x-python",
   "name": "python",
   "nbconvert_exporter": "python",
   "pygments_lexer": "ipython3",
   "version": "3.8.5"
  }
 },
 "nbformat": 4,
 "nbformat_minor": 4
}
