{
 "cells": [
  {
   "cell_type": "code",
   "execution_count": null,
   "metadata": {},
   "outputs": [],
   "source": [
    "#Import Libraries\n",
    "from sklearn.linear_model import LinearRegression\n",
    "from sklearn.metrics import mean_absolute_error \n",
    "from sklearn.metrics import mean_squared_error \n",
    "from sklearn.metrics import median_absolute_error\n",
    "#----------------------------------------------------\n",
    "\n",
    "#Applying Linear Regression Model \n",
    "\n",
    "LinearRegressionModel = LinearRegression(fit_intercept=True, normalize=True,copy_X=True,n_jobs=-1)\n",
    "LinearRegressionModel.fit(X_train, y_train)\n",
    "\n",
    "#Calculating Details\n",
    "print('Linear Regression Train Score is : ' , LinearRegressionModel.score(X_train, y_train))\n",
    "print('Linear Regression Test Score is : ' , LinearRegressionModel.score(X_test, y_test))\n",
    "print('Linear Regression Coef is : ' , LinearRegressionModel.coef_)\n",
    "print('Linear Regression intercept is : ' , LinearRegressionModel.intercept_)\n",
    "print('----------------------------------------------------')\n",
    "\n",
    "#Calculating Prediction\n",
    "y_pred = LinearRegressionModel.predict(X_test)\n",
    "print('Predicted Value for Linear Regression is : ' , y_pred[:10])\n",
    "\n",
    "#----------------------------------------------------\n",
    "#Calculating Mean Absolute Error\n",
    "MAEValue = mean_absolute_error(y_test, y_pred, multioutput='uniform_average') # it can be raw_values\n",
    "print('Mean Absolute Error Value is : ', MAEValue)\n",
    "\n",
    "#----------------------------------------------------\n",
    "#Calculating Mean Squared Error\n",
    "MSEValue = mean_squared_error(y_test, y_pred, multioutput='uniform_average') # it can be raw_values\n",
    "print('Mean Squared Error Value is : ', MSEValue)\n",
    "\n",
    "#----------------------------------------------------\n",
    "#Calculating Median Squared Error\n",
    "MdSEValue = median_absolute_error(y_test, y_pred)\n",
    "print('Median Squared Error Value is : ', MdSEValue )"
   ]
  },
  {
   "cell_type": "code",
   "execution_count": 1,
   "metadata": {},
   "outputs": [],
   "source": [
    "#Import Libraries\n",
    "from sklearn.datasets import load_boston\n",
    "from sklearn.model_selection import train_test_split\n",
    "from sklearn.linear_model import LinearRegression\n",
    "from sklearn.metrics import mean_absolute_error \n",
    "from sklearn.metrics import mean_squared_error \n",
    "from sklearn.metrics import median_absolute_error"
   ]
  },
  {
   "cell_type": "code",
   "execution_count": 3,
   "metadata": {},
   "outputs": [],
   "source": [
    "#load boston data\n",
    "BostonData = load_boston()\n",
    "\n",
    "#X Data\n",
    "X = BostonData.data\n",
    "\n",
    "#Y Data\n",
    "y = BostonData.target"
   ]
  },
  {
   "cell_type": "code",
   "execution_count": 8,
   "metadata": {},
   "outputs": [],
   "source": [
    "#Splitting data\n",
    "X_train, X_test, y_train, y_test = train_test_split(X, y, test_size = 0.3, random_state = 50, shuffle = True)"
   ]
  },
  {
   "cell_type": "code",
   "execution_count": 9,
   "metadata": {},
   "outputs": [
    {
     "data": {
      "text/plain": [
       "LinearRegression(n_jobs=-1, normalize=True)"
      ]
     },
     "execution_count": 9,
     "metadata": {},
     "output_type": "execute_result"
    }
   ],
   "source": [
    "#Applying Linear Regression Model \n",
    "LinearRegressionModel = LinearRegression(fit_intercept = True, normalize = True, copy_X = True, n_jobs = -1)\n",
    "LinearRegressionModel.fit(X_train, y_train)"
   ]
  },
  {
   "cell_type": "code",
   "execution_count": 10,
   "metadata": {},
   "outputs": [
    {
     "name": "stdout",
     "output_type": "stream",
     "text": [
      "Linear Regression Train Score is :  0.770494124075238\n",
      "Linear Regression Test Score is :  0.6685538790447974\n",
      "Linear Regression Coef is :  [-1.02245423e-01  3.11044112e-02  1.43693788e-02  1.65964577e+00\n",
      " -1.58693910e+01  5.03222436e+00 -7.16365483e-04 -1.31353766e+00\n",
      "  2.55945159e-01 -1.23369178e-02 -9.03145563e-01  9.65756208e-03\n",
      " -4.22793524e-01]\n",
      "Linear Regression intercept is :  25.46952844276275\n"
     ]
    }
   ],
   "source": [
    "print('Linear Regression Train Score is : ' , LinearRegressionModel.score(X_train, y_train))\n",
    "print('Linear Regression Test Score is : ' , LinearRegressionModel.score(X_test, y_test))\n",
    "print('Linear Regression Coef is : ' , LinearRegressionModel.coef_)\n",
    "print('Linear Regression intercept is : ' , LinearRegressionModel.intercept_)      "
   ]
  },
  {
   "cell_type": "code",
   "execution_count": 11,
   "metadata": {},
   "outputs": [
    {
     "name": "stdout",
     "output_type": "stream",
     "text": [
      "Predicted Value for Linear Regression is :  [ 9.70536163 25.25268456 19.95637866 27.88901718 22.27395303]\n"
     ]
    }
   ],
   "source": [
    "#Calculating Prediction\n",
    "y_pred = LinearRegressionModel.predict(X_test)\n",
    "print('Predicted Value for Linear Regression is : ' , y_pred[:5])"
   ]
  },
  {
   "cell_type": "code",
   "execution_count": 16,
   "metadata": {},
   "outputs": [
    {
     "name": "stdout",
     "output_type": "stream",
     "text": [
      "[27.5 21.6 17.7 24.3 22.2]\n"
     ]
    }
   ],
   "source": [
    "print(y_test[:5])"
   ]
  },
  {
   "cell_type": "code",
   "execution_count": 17,
   "metadata": {},
   "outputs": [
    {
     "name": "stdout",
     "output_type": "stream",
     "text": [
      "Mean Absolute Error Value is :  3.678977534499437\n"
     ]
    }
   ],
   "source": [
    "#Calculating Mean Absolute Error\n",
    "MAEValue = mean_absolute_error(y_test, y_pred, multioutput='uniform_average') # it can be raw_values\n",
    "print('Mean Absolute Error Value is : ', MAEValue)\n"
   ]
  },
  {
   "cell_type": "code",
   "execution_count": 20,
   "metadata": {},
   "outputs": [
    {
     "name": "stdout",
     "output_type": "stream",
     "text": [
      "Mean Squared Error Value is :  33.86803399667014\n"
     ]
    }
   ],
   "source": [
    "#Calculating Mean Squared Error\n",
    "MSEValue = mean_squared_error(y_test, y_pred, multioutput='uniform_average') # it can be raw_values\n",
    "print('Mean Squared Error Value is : ', MSEValue)"
   ]
  },
  {
   "cell_type": "code",
   "execution_count": 21,
   "metadata": {},
   "outputs": [
    {
     "name": "stdout",
     "output_type": "stream",
     "text": [
      "Median Squared Error Value is :  2.3072278317462427\n"
     ]
    }
   ],
   "source": [
    "#Calculating Median Squared Error\n",
    "MdSEValue = median_absolute_error(y_test, y_pred)\n",
    "print('Median Squared Error Value is : ', MdSEValue )"
   ]
  },
  {
   "cell_type": "code",
   "execution_count": null,
   "metadata": {},
   "outputs": [],
   "source": []
  }
 ],
 "metadata": {
  "kernelspec": {
   "display_name": "Python 3",
   "language": "python",
   "name": "python3"
  },
  "language_info": {
   "codemirror_mode": {
    "name": "ipython",
    "version": 3
   },
   "file_extension": ".py",
   "mimetype": "text/x-python",
   "name": "python",
   "nbconvert_exporter": "python",
   "pygments_lexer": "ipython3",
   "version": "3.8.5"
  }
 },
 "nbformat": 4,
 "nbformat_minor": 4
}
