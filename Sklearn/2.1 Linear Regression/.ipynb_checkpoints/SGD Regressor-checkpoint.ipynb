{
 "cells": [
  {
   "cell_type": "code",
   "execution_count": 1,
   "metadata": {},
   "outputs": [],
   "source": [
    "#Import Libraries\n",
    "from sklearn.linear_model import SGDRegressor\n",
    "from sklearn.metrics import mean_absolute_error \n",
    "from sklearn.metrics import mean_squared_error \n",
    "from sklearn.metrics import median_absolute_error\n",
    "#Applying SGDRegressor Model \n",
    "\n",
    "'''\n",
    "#sklearn.linear_model.SGDRegressor(loss='squared_loss’, penalty=’l2’, alpha=0.0001,\n",
    "#                                  l1_ratio=0.15, fit_intercept=True, max_iter=None,\n",
    "#                                  tol=None, shuffle=True, verbose=0, epsilon=0.1,\n",
    "#                                  random_state=None, learning_rate='invscaling’,\n",
    "#                                  eta0=0.01, power_t=0.25, early_stopping=False,\n",
    "#                                  validation_fraction=0.1, n_iter_no_change=5,\n",
    "#                                  warm_start=False, average=False, n_iter=None)\n",
    "'''\n",
    "\n",
    "SGDRegressionModel = SGDRegressor(alpha=0.1,random_state=33,penalty='l2',loss = 'huber')\n",
    "SGDRegressionModel.fit(X_train, y_train)\n",
    "\n",
    "#Calculating Details\n",
    "print('SGD Regression Train Score is : ' , SGDRegressionModel.score(X_train, y_train))\n",
    "print('SGD Regression Test Score is : ' , SGDRegressionModel.score(X_test, y_test))\n",
    "print('SGD Regression Coef is : ' , SGDRegressionModel.coef_)\n",
    "print('SGD Regression intercept is : ' , SGDRegressionModel.intercept_)\n",
    "print('----------------------------------------------------')\n",
    "\n",
    "#Calculating Prediction\n",
    "y_pred = SGDRegressionModel.predict(X_test)\n",
    "print('Predicted Value for SGD Regression is : ' , y_pred[:10])\n",
    "\n",
    "#----------------------------------------------------\n",
    "#Calculating Mean Absolute Error\n",
    "MAEValue = mean_absolute_error(y_test, y_pred, multioutput='uniform_average') # it can be raw_values\n",
    "print('Mean Absolute Error Value is : ', MAEValue)\n",
    "\n",
    "#----------------------------------------------------\n",
    "#Calculating Mean Squared Error\n",
    "MSEValue = mean_squared_error(y_test, y_pred, multioutput='uniform_average') # it can be raw_values\n",
    "print('Mean Squared Error Value is : ', MSEValue)\n",
    "\n",
    "#----------------------------------------------------\n",
    "#Calculating Median Squared Error\n",
    "MdSEValue = median_absolute_error(y_test, y_pred)\n",
    "print('Median Squared Error Value is : ', MdSEValue )"
   ]
  },
  {
   "cell_type": "code",
   "execution_count": 3,
   "metadata": {},
   "outputs": [],
   "source": [
    "from sklearn.datasets import load_boston\n",
    "from sklearn.model_selection import train_test_split\n",
    "#load boston data\n",
    "\n",
    "BostonData = load_boston()\n",
    "\n",
    "#X Data\n",
    "X = BostonData.data\n",
    "#y Data\n",
    "y = BostonData.target"
   ]
  },
  {
   "cell_type": "code",
   "execution_count": 5,
   "metadata": {},
   "outputs": [],
   "source": [
    "#Splitting data\n",
    "\n",
    "X_train, X_test, y_train, y_test = train_test_split(X, y, test_size=0.33, random_state=44, shuffle =True)"
   ]
  },
  {
   "cell_type": "code",
   "execution_count": 6,
   "metadata": {},
   "outputs": [
    {
     "data": {
      "text/plain": [
       "SGDRegressor(alpha=0.1, loss='huber', random_state=33)"
      ]
     },
     "execution_count": 6,
     "metadata": {},
     "output_type": "execute_result"
    }
   ],
   "source": [
    "#Applying SGDRegressor Model \n",
    "\n",
    "'''\n",
    "#sklearn.linear_model.SGDRegressor(loss='squared_loss’, penalty=’l2’, alpha=0.0001,\n",
    "#                                  l1_ratio=0.15, fit_intercept=True, max_iter=None,\n",
    "#                                  tol=None, shuffle=True, verbose=0, epsilon=0.1,\n",
    "#                                  random_state=None, learning_rate='invscaling’,\n",
    "#                                  eta0=0.01, power_t=0.25, early_stopping=False,\n",
    "#                                  validation_fraction=0.1, n_iter_no_change=5,\n",
    "#                                  warm_start=False, average=False, n_iter=None)\n",
    "'''\n",
    "\n",
    "SGDRegressionModel = SGDRegressor(alpha=0.1,random_state=33,penalty='l2',loss = 'huber')\n",
    "SGDRegressionModel.fit(X_train, y_train)"
   ]
  },
  {
   "cell_type": "code",
   "execution_count": 7,
   "metadata": {},
   "outputs": [
    {
     "name": "stdout",
     "output_type": "stream",
     "text": [
      "SGD Regression Train Score is :  -12.189304300254657\n",
      "SGD Regression Test Score is :  -10.034669560137116\n",
      "SGD Regression Coef is :  [-0.06577554  0.14603702 -0.08658745  0.01053297  0.00515214  0.1512114\n",
      "  0.04009445 -0.01482112  0.04069961 -0.05089027  0.08215802  0.03311159\n",
      " -0.39075786]\n",
      "SGD Regression intercept is :  [0.02547296]\n"
     ]
    }
   ],
   "source": [
    "#Calculating Details\n",
    "print('SGD Regression Train Score is : ' , SGDRegressionModel.score(X_train, y_train))\n",
    "print('SGD Regression Test Score is : ' , SGDRegressionModel.score(X_test, y_test))\n",
    "print('SGD Regression Coef is : ' , SGDRegressionModel.coef_)\n",
    "print('SGD Regression intercept is : ' , SGDRegressionModel.intercept_)"
   ]
  },
  {
   "cell_type": "code",
   "execution_count": 8,
   "metadata": {},
   "outputs": [
    {
     "name": "stdout",
     "output_type": "stream",
     "text": [
      "Predicted Value for SGD Regression is :  [ -4.70104618  -2.90846188 -21.32713628   8.0468759  -36.25703698\n",
      "   0.14534959 -21.81725919  -2.85640879   6.52989478 -19.2763642 ]\n"
     ]
    }
   ],
   "source": [
    "#Calculating Prediction\n",
    "y_pred = SGDRegressionModel.predict(X_test)\n",
    "print('Predicted Value for SGD Regression is : ' , y_pred[:10])"
   ]
  },
  {
   "cell_type": "code",
   "execution_count": 9,
   "metadata": {},
   "outputs": [
    {
     "name": "stdout",
     "output_type": "stream",
     "text": [
      "Mean Absolute Error Value is :  31.108953818216424\n"
     ]
    }
   ],
   "source": [
    "#Calculating Mean Absolute Error\n",
    "MAEValue = mean_absolute_error(y_test, y_pred, multioutput='uniform_average') # it can be raw_values\n",
    "print('Mean Absolute Error Value is : ', MAEValue)"
   ]
  },
  {
   "cell_type": "code",
   "execution_count": 10,
   "metadata": {},
   "outputs": [
    {
     "name": "stdout",
     "output_type": "stream",
     "text": [
      "Mean Squared Error Value is :  1085.346286883628\n"
     ]
    }
   ],
   "source": [
    "#Calculating Mean Squared Error\n",
    "MSEValue = mean_squared_error(y_test, y_pred, multioutput='uniform_average') # it can be raw_values\n",
    "print('Mean Squared Error Value is : ', MSEValue)"
   ]
  },
  {
   "cell_type": "code",
   "execution_count": 11,
   "metadata": {},
   "outputs": [
    {
     "name": "stdout",
     "output_type": "stream",
     "text": [
      "Median Squared Error Value is :  28.511195071252523\n"
     ]
    }
   ],
   "source": [
    "#Calculating Median Squared Error\n",
    "MdSEValue = median_absolute_error(y_test, y_pred)\n",
    "print('Median Squared Error Value is : ', MdSEValue )"
   ]
  },
  {
   "cell_type": "code",
   "execution_count": null,
   "metadata": {},
   "outputs": [],
   "source": []
  }
 ],
 "metadata": {
  "kernelspec": {
   "display_name": "Python 3",
   "language": "python",
   "name": "python3"
  },
  "language_info": {
   "codemirror_mode": {
    "name": "ipython",
    "version": 3
   },
   "file_extension": ".py",
   "mimetype": "text/x-python",
   "name": "python",
   "nbconvert_exporter": "python",
   "pygments_lexer": "ipython3",
   "version": "3.8.5"
  }
 },
 "nbformat": 4,
 "nbformat_minor": 4
}
