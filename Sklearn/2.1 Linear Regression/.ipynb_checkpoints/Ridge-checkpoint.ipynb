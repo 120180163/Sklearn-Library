{
 "cells": [
  {
   "cell_type": "code",
   "execution_count": null,
   "metadata": {},
   "outputs": [],
   "source": [
    "#Import Libraries\n",
    "from sklearn.linear_model import Ridge\n",
    "#----------------------------------------------------\n",
    "\n",
    "#Applying Ridge Regression Model \n",
    "\n",
    "'''\n",
    "#sklearn.linear_model.Ridge(alpha=1.0, fit_intercept=True, normalize=False,\n",
    "#                           copy_X=True, max_iter=None, tol=0.001, solver='auto',\n",
    "#                           random_state=None)\n",
    "'''\n",
    "\n",
    "RidgeRegressionModel = Ridge(alpha=1.0,random_state=33)\n",
    "RidgeRegressionModel.fit(X_train, y_train)\n",
    "\n",
    "#Calculating Details\n",
    "print('Ridge Regression Train Score is : ' , RidgeRegressionModel.score(X_train, y_train))\n",
    "print('Ridge Regression Test Score is : ' , RidgeRegressionModel.score(X_test, y_test))\n",
    "print('Ridge Regression Coef is : ' , RidgeRegressionModel.coef_)\n",
    "print('Ridge Regression intercept is : ' , RidgeRegressionModel.intercept_)\n",
    "print('----------------------------------------------------')\n",
    "\n",
    "#Calculating Prediction\n",
    "y_pred = RidgeRegressionModel.predict(X_test)\n",
    "print('Predicted Value for Ridge Regression is : ' , y_pred[:10])"
   ]
  },
  {
   "cell_type": "code",
   "execution_count": 1,
   "metadata": {},
   "outputs": [],
   "source": [
    "#Import Libraries\n",
    "from sklearn.datasets import load_boston\n",
    "from sklearn.model_selection import train_test_split\n",
    "from sklearn.linear_model import Ridge\n",
    "from sklearn.metrics import mean_absolute_error \n",
    "from sklearn.metrics import mean_squared_error \n",
    "from sklearn.metrics import median_absolute_error"
   ]
  },
  {
   "cell_type": "code",
   "execution_count": 2,
   "metadata": {},
   "outputs": [],
   "source": [
    "#load boston data\n",
    "BostonData = load_boston()\n",
    "\n",
    "#X Data\n",
    "X = BostonData.data\n",
    "\n",
    "#y Data\n",
    "y = BostonData.target"
   ]
  },
  {
   "cell_type": "code",
   "execution_count": 3,
   "metadata": {},
   "outputs": [],
   "source": [
    "#Splitting data\n",
    "\n",
    "X_train, X_test, y_train, y_test = train_test_split(X, y, test_size=0.33, random_state=44, shuffle =True)\n"
   ]
  },
  {
   "cell_type": "code",
   "execution_count": 47,
   "metadata": {},
   "outputs": [
    {
     "data": {
      "text/plain": [
       "Ridge(alpha=0.01, normalize=True, random_state=30)"
      ]
     },
     "execution_count": 47,
     "metadata": {},
     "output_type": "execute_result"
    }
   ],
   "source": [
    "RidgeRegressionModel = Ridge(alpha=0.01,random_state=30, copy_X=True, normalize=True)\n",
    "RidgeRegressionModel.fit(X_train, y_train)"
   ]
  },
  {
   "cell_type": "code",
   "execution_count": 48,
   "metadata": {},
   "outputs": [
    {
     "name": "stdout",
     "output_type": "stream",
     "text": [
      "Ridge Regression Train Score is :  0.7388089250515313\n",
      "Ridge Regression Test Score is :  0.7203847994512833\n",
      "Ridge Regression Coef is :  [-1.40664642e-01  5.41536829e-02 -6.32890538e-02  1.81184171e+00\n",
      " -1.70334264e+01  3.27586903e+00 -2.54555018e-03 -1.70149524e+00\n",
      "  2.64266208e-01 -1.10329452e-02 -8.56551908e-01  1.05135104e-02\n",
      " -4.60768788e-01]\n",
      "Ridge Regression intercept is :  38.132286874096934\n"
     ]
    }
   ],
   "source": [
    "#Calculating Details\n",
    "print('Ridge Regression Train Score is : ' , RidgeRegressionModel.score(X_train, y_train))\n",
    "print('Ridge Regression Test Score is : ' , RidgeRegressionModel.score(X_test, y_test))\n",
    "print('Ridge Regression Coef is : ' , RidgeRegressionModel.coef_)\n",
    "print('Ridge Regression intercept is : ' , RidgeRegressionModel.intercept_)"
   ]
  },
  {
   "cell_type": "code",
   "execution_count": 49,
   "metadata": {},
   "outputs": [
    {
     "name": "stdout",
     "output_type": "stream",
     "text": [
      "Predicted Value for Ridge Regression is :  [18.1571037  24.16550514 21.19575017 34.92495122 12.26985061 32.28640228\n",
      " 19.63187419 24.68493436 30.41462547 21.72307593]\n"
     ]
    }
   ],
   "source": [
    "#Calculating Prediction\n",
    "y_pred = RidgeRegressionModel.predict(X_test)\n",
    "print('Predicted Value for Ridge Regression is : ' , y_pred[:10])"
   ]
  },
  {
   "cell_type": "code",
   "execution_count": 50,
   "metadata": {},
   "outputs": [
    {
     "name": "stdout",
     "output_type": "stream",
     "text": [
      "Mean Absolute Error Value is :  3.621772831955518\n"
     ]
    }
   ],
   "source": [
    "#Calculating Mean Absolute Error\n",
    "MAEValue = mean_absolute_error(y_test, y_pred, multioutput='uniform_average') # it can be raw_values\n",
    "print('Mean Absolute Error Value is : ', MAEValue)"
   ]
  },
  {
   "cell_type": "code",
   "execution_count": 51,
   "metadata": {},
   "outputs": [
    {
     "name": "stdout",
     "output_type": "stream",
     "text": [
      "Mean Squared Error Value is :  27.50234776110501\n"
     ]
    }
   ],
   "source": [
    "#Calculating Mean Squared Error\n",
    "MSEValue = mean_squared_error(y_test, y_pred, multioutput='uniform_average') # it can be raw_values\n",
    "print('Mean Squared Error Value is : ', MSEValue)"
   ]
  },
  {
   "cell_type": "code",
   "execution_count": 52,
   "metadata": {},
   "outputs": [
    {
     "name": "stdout",
     "output_type": "stream",
     "text": [
      "Median Squared Error Value is :  2.5249512222413912\n"
     ]
    }
   ],
   "source": [
    "#Calculating Median Squared Error\n",
    "MdSEValue = median_absolute_error(y_test, y_pred)\n",
    "print('Median Squared Error Value is : ', MdSEValue )"
   ]
  },
  {
   "cell_type": "code",
   "execution_count": null,
   "metadata": {},
   "outputs": [],
   "source": []
  }
 ],
 "metadata": {
  "kernelspec": {
   "display_name": "Python 3",
   "language": "python",
   "name": "python3"
  },
  "language_info": {
   "codemirror_mode": {
    "name": "ipython",
    "version": 3
   },
   "file_extension": ".py",
   "mimetype": "text/x-python",
   "name": "python",
   "nbconvert_exporter": "python",
   "pygments_lexer": "ipython3",
   "version": "3.8.5"
  }
 },
 "nbformat": 4,
 "nbformat_minor": 4
}
