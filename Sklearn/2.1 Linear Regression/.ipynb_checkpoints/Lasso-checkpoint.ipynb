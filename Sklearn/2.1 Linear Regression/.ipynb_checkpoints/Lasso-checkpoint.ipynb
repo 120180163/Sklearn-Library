{
 "cells": [
  {
   "cell_type": "code",
   "execution_count": null,
   "metadata": {},
   "outputs": [],
   "source": [
    "#Import Libraries\n",
    "from sklearn.linear_model import Lasso\n",
    "from sklearn.metrics import mean_absolute_error \n",
    "from sklearn.metrics import mean_squared_error \n",
    "from sklearn.metrics import median_absolute_error\n",
    "#----------------------------------------------------\n",
    "\n",
    "#Applying Lasso Regression Model \n",
    "\n",
    "'''\n",
    "#sklearn.linear_model.Lasso(alpha=1.0, fit_intercept=True, normalize=False, precompute=\n",
    "#                           False, copy_X=True, max_iter=1000, tol=0.0001,\n",
    "#                           warm_start=False, positive=False, random_state=None,selection='cyclic')\n",
    "'''\n",
    "\n",
    "LassoRegressionModel = Lasso(alpha=1.0,random_state=33,normalize=False)\n",
    "LassoRegressionModel.fit(X_train, y_train)\n",
    "\n",
    "#Calculating Details\n",
    "print('Lasso Regression Train Score is : ' , LassoRegressionModel.score(X_train, y_train))\n",
    "print('Lasso Regression Test Score is : ' , LassoRegressionModel.score(X_test, y_test))\n",
    "print('Lasso Regression Coef is : ' , LassoRegressionModel.coef_)\n",
    "print('Lasso Regression intercept is : ' , LassoRegressionModel.intercept_)\n",
    "print('----------------------------------------------------')\n",
    "\n",
    "#Calculating Prediction\n",
    "y_pred = LassoRegressionModel.predict(X_test)\n",
    "print('Predicted Value for Lasso Regression is : ' , y_pred[:10])\n",
    "\n",
    "#----------------------------------------------------\n",
    "#Calculating Mean Absolute Error\n",
    "MAEValue = mean_absolute_error(y_test, y_pred, multioutput='uniform_average') # it can be raw_values\n",
    "print('Mean Absolute Error Value is : ', MAEValue)\n",
    "\n",
    "#----------------------------------------------------\n",
    "#Calculating Mean Squared Error\n",
    "MSEValue = mean_squared_error(y_test, y_pred, multioutput='uniform_average') # it can be raw_values\n",
    "print('Mean Squared Error Value is : ', MSEValue)\n",
    "\n",
    "#----------------------------------------------------\n",
    "#Calculating Median Squared Error\n",
    "MdSEValue = median_absolute_error(y_test, y_pred)\n",
    "print('Median Squared Error Value is : ', MdSEValue )"
   ]
  },
  {
   "cell_type": "code",
   "execution_count": 1,
   "metadata": {},
   "outputs": [],
   "source": [
    "#Import Libraries\n",
    "from sklearn.datasets import load_boston\n",
    "from sklearn.model_selection import train_test_split\n",
    "from sklearn.linear_model import Lasso\n",
    "from sklearn.metrics import mean_absolute_error \n",
    "from sklearn.metrics import mean_squared_error \n",
    "from sklearn.metrics import median_absolute_error"
   ]
  },
  {
   "cell_type": "code",
   "execution_count": 2,
   "metadata": {},
   "outputs": [],
   "source": [
    "#load boston data\n",
    "\n",
    "BostonData = load_boston()\n",
    "\n",
    "#X Data\n",
    "X = BostonData.data\n",
    "\n",
    "#y Data\n",
    "y = BostonData.target"
   ]
  },
  {
   "cell_type": "code",
   "execution_count": 3,
   "metadata": {},
   "outputs": [],
   "source": [
    "#Splitting data\n",
    "\n",
    "X_train, X_test, y_train, y_test = train_test_split(X, y, test_size=0.33, random_state=44, shuffle =True)"
   ]
  },
  {
   "cell_type": "code",
   "execution_count": 4,
   "metadata": {},
   "outputs": [
    {
     "data": {
      "text/plain": [
       "\"\\n#sklearn.linear_model.Lasso(alpha=1.0, fit_intercept=True, normalize=False, precompute=\\n#                           False, copy_X=True, max_iter=1000, tol=0.0001,\\n#                           warm_start=False, positive=False, random_state=None,selection='cyclic')\\n\""
      ]
     },
     "execution_count": 4,
     "metadata": {},
     "output_type": "execute_result"
    }
   ],
   "source": [
    "#Applying Lasso Regression Model \n",
    "\n",
    "'''\n",
    "#sklearn.linear_model.Lasso(alpha=1.0, fit_intercept=True, normalize=False, precompute=\n",
    "#                           False, copy_X=True, max_iter=1000, tol=0.0001,\n",
    "#                           warm_start=False, positive=False, random_state=None,selection='cyclic')\n",
    "'''"
   ]
  },
  {
   "cell_type": "code",
   "execution_count": 9,
   "metadata": {},
   "outputs": [
    {
     "data": {
      "text/plain": [
       "Lasso(alpha=0.001, random_state=30)"
      ]
     },
     "execution_count": 9,
     "metadata": {},
     "output_type": "execute_result"
    }
   ],
   "source": [
    "LassoRegressionModel = Lasso(alpha=0.001,random_state=30,normalize=False)\n",
    "LassoRegressionModel.fit(X_train, y_train)"
   ]
  },
  {
   "cell_type": "code",
   "execution_count": 10,
   "metadata": {},
   "outputs": [
    {
     "name": "stdout",
     "output_type": "stream",
     "text": [
      "Lasso Regression Train Score is :  0.7391355514777356\n",
      "Lasso Regression Test Score is :  0.719422483772346\n",
      "Lasso Regression Coef is :  [-1.52427990e-01  5.83965476e-02 -5.38442527e-02  1.72955662e+00\n",
      " -1.79094221e+01  3.19626251e+00 -2.06386293e-03 -1.78649966e+00\n",
      "  3.01756893e-01 -1.26699800e-02 -8.69929453e-01  1.05948438e-02\n",
      " -4.69795961e-01]\n",
      "Lasso Regression intercept is :  39.9482818609637\n"
     ]
    }
   ],
   "source": [
    "#Calculating Details\n",
    "print('Lasso Regression Train Score is : ' , LassoRegressionModel.score(X_train, y_train))\n",
    "print('Lasso Regression Test Score is : ' , LassoRegressionModel.score(X_test, y_test))\n",
    "print('Lasso Regression Coef is : ' , LassoRegressionModel.coef_)\n",
    "print('Lasso Regression intercept is : ' , LassoRegressionModel.intercept_)"
   ]
  },
  {
   "cell_type": "code",
   "execution_count": 11,
   "metadata": {},
   "outputs": [
    {
     "name": "stdout",
     "output_type": "stream",
     "text": [
      "Predicted Value for Lasso Regression is :  [18.08816767 24.25989864 21.2873722  35.127062   12.01454087 32.39669842\n",
      " 19.69037654 24.84644345 30.6819636  21.80051227]\n"
     ]
    }
   ],
   "source": [
    "#Calculating Prediction\n",
    "y_pred = LassoRegressionModel.predict(X_test)\n",
    "print('Predicted Value for Lasso Regression is : ' , y_pred[:10])"
   ]
  },
  {
   "cell_type": "code",
   "execution_count": 12,
   "metadata": {},
   "outputs": [
    {
     "name": "stdout",
     "output_type": "stream",
     "text": [
      "Mean Absolute Error Value is :  3.637097793883329\n"
     ]
    }
   ],
   "source": [
    "#Calculating Mean Absolute Error\n",
    "MAEValue = mean_absolute_error(y_test, y_pred, multioutput='uniform_average') # it can be raw_values\n",
    "print('Mean Absolute Error Value is : ', MAEValue)"
   ]
  },
  {
   "cell_type": "code",
   "execution_count": 13,
   "metadata": {},
   "outputs": [
    {
     "name": "stdout",
     "output_type": "stream",
     "text": [
      "Mean Squared Error Value is :  27.59699905476201\n"
     ]
    }
   ],
   "source": [
    "#Calculating Mean Squared Error\n",
    "MSEValue = mean_squared_error(y_test, y_pred, multioutput='uniform_average') # it can be raw_values\n",
    "print('Mean Squared Error Value is : ', MSEValue)"
   ]
  },
  {
   "cell_type": "code",
   "execution_count": 14,
   "metadata": {},
   "outputs": [
    {
     "name": "stdout",
     "output_type": "stream",
     "text": [
      "Median Squared Error Value is :  2.572031252626985\n"
     ]
    }
   ],
   "source": [
    "#Calculating Median Squared Error\n",
    "MdSEValue = median_absolute_error(y_test, y_pred)\n",
    "print('Median Squared Error Value is : ', MdSEValue )"
   ]
  },
  {
   "cell_type": "code",
   "execution_count": null,
   "metadata": {},
   "outputs": [],
   "source": []
  }
 ],
 "metadata": {
  "kernelspec": {
   "display_name": "Python 3",
   "language": "python",
   "name": "python3"
  },
  "language_info": {
   "codemirror_mode": {
    "name": "ipython",
    "version": 3
   },
   "file_extension": ".py",
   "mimetype": "text/x-python",
   "name": "python",
   "nbconvert_exporter": "python",
   "pygments_lexer": "ipython3",
   "version": "3.8.5"
  }
 },
 "nbformat": 4,
 "nbformat_minor": 4
}
