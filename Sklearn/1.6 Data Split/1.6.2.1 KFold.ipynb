{
 "cells": [
  {
   "cell_type": "code",
   "execution_count": null,
   "metadata": {},
   "outputs": [],
   "source": [
    "#Import Libraries\n",
    "from sklearn.model_selection import KFold\n",
    "#----------------------------------------------------\n",
    "\n",
    "#KFold Splitting data\n",
    "\n",
    "kf = KFold(n_splits=4, random_state=44, shuffle =True)\n",
    "\n",
    "#KFold Data\n",
    "for train_index, test_index in kf.split(X):\n",
    "    print('Train Data is : \\n', train_index)\n",
    "    print('Test Data is  : \\n', test_index)\n",
    "    print('-------------------------------')\n",
    "    X_train, X_test = X[train_index], X[test_index]\n",
    "    y_train, y_test = y[train_index], y[test_index]\n",
    "    print('X_train Shape is  ' , X_train.shape)\n",
    "    print('X_test Shape is  ' , X_test.shape)\n",
    "    print('y_train Shape is  ' ,y_train.shape)\n",
    "    print('y_test Shape is  ' , y_test.shape)\n",
    "    print('========================================')"
   ]
  },
  {
   "cell_type": "code",
   "execution_count": 11,
   "metadata": {},
   "outputs": [
    {
     "name": "stdout",
     "output_type": "stream",
     "text": [
      "TRAIN: [2 3] TEST: [0 1]\n",
      "<<<<<<>>>>>>><<<<<<>>>>>>>\n",
      "X_train \n",
      " [[5 6]\n",
      " [7 8]]\n",
      "<<<<<<>>>>>>><<<<<<>>>>>>>\n",
      "X_test \n",
      " [[1 2]\n",
      " [3 4]]\n",
      "<<<<<<>>>>>>><<<<<<>>>>>>>\n",
      "y_train \n",
      " [33 44]\n",
      "<<<<<<>>>>>>><<<<<<>>>>>>>\n",
      "y_test \n",
      " [11 22]\n",
      "TRAIN: [0 1] TEST: [2 3]\n",
      "<<<<<<>>>>>>><<<<<<>>>>>>>\n",
      "X_train \n",
      " [[1 2]\n",
      " [3 4]]\n",
      "<<<<<<>>>>>>><<<<<<>>>>>>>\n",
      "X_test \n",
      " [[5 6]\n",
      " [7 8]]\n",
      "<<<<<<>>>>>>><<<<<<>>>>>>>\n",
      "y_train \n",
      " [11 22]\n",
      "<<<<<<>>>>>>><<<<<<>>>>>>>\n",
      "y_test \n",
      " [33 44]\n"
     ]
    }
   ],
   "source": [
    "import numpy as np\n",
    "from sklearn.model_selection import KFold\n",
    "X = np.array([[1, 2], [3, 4], [5, 6], [7, 8]])\n",
    "y = np.array([11, 22, 33, 44])\n",
    "\n",
    "nn = 2\n",
    "\n",
    "kf = KFold(n_splits = nn)\n",
    "kf.get_n_splits(X)\n",
    "KFold(n_splits = nn, random_state = None, shuffle = False)\n",
    "\n",
    "for train_index, test_index in kf.split(X):\n",
    "    \n",
    "    print(\"TRAIN:\", train_index, \"TEST:\", test_index)\n",
    "    print('<<<<<<>>>>>>><<<<<<>>>>>>>')\n",
    "    X_train, X_test = X[train_index], X[test_index]\n",
    "    y_train, y_test = y[train_index], y[test_index]\n",
    "    print('X_train \\n' , X_train)\n",
    "    print('<<<<<<>>>>>>><<<<<<>>>>>>>')\n",
    "    print('X_test \\n' , X_test)\n",
    "    print('<<<<<<>>>>>>><<<<<<>>>>>>>')\n",
    "    print('y_train \\n' ,y_train)\n",
    "    print('<<<<<<>>>>>>><<<<<<>>>>>>>')\n",
    "    print('y_test \\n' , y_test)"
   ]
  },
  {
   "cell_type": "code",
   "execution_count": null,
   "metadata": {},
   "outputs": [],
   "source": []
  }
 ],
 "metadata": {
  "kernelspec": {
   "display_name": "Python 3",
   "language": "python",
   "name": "python3"
  },
  "language_info": {
   "codemirror_mode": {
    "name": "ipython",
    "version": 3
   },
   "file_extension": ".py",
   "mimetype": "text/x-python",
   "name": "python",
   "nbconvert_exporter": "python",
   "pygments_lexer": "ipython3",
   "version": "3.8.5"
  }
 },
 "nbformat": 4,
 "nbformat_minor": 4
}
