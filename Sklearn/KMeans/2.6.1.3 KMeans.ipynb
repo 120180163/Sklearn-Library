{
 "cells": [
  {
   "cell_type": "code",
   "execution_count": 1,
   "metadata": {},
   "outputs": [],
   "source": [
    "from sklearn.cluster import KMeans\n",
    "import matplotlib.pyplot as plt\n",
    "import numpy as np"
   ]
  },
  {
   "cell_type": "code",
   "execution_count": 2,
   "metadata": {},
   "outputs": [],
   "source": [
    "trainingdata = np.random.rand(200,2)\n",
    "\n",
    "X = np.array(trainingdata)"
   ]
  },
  {
   "cell_type": "code",
   "execution_count": 4,
   "metadata": {},
   "outputs": [
    {
     "name": "stdout",
     "output_type": "stream",
     "text": [
      "[2 6 0 1 4 7 7 1 6 1 1 5 5 6 5 0 7 3 7 3 6 7 4 1 2 4 4 2 6 3 1 2 5 3 0 6 2\n",
      " 6 1 2 5 4 4 5 7 4 0 0 0 5 4 7 5 2 5 4 4 5 5 5 7 3 5 3 2 5 7 7 7 6 5 1 2 7\n",
      " 7 3 0 0 2 0 7 6 3 1 1 0 7 5 4 3 3 0 7 6 6 5 4 7 2 7 1 5 7 7 2 5 7 6 7 4 1\n",
      " 5 7 1 3 2 2 0 1 7 4 1 4 6 2 7 6 6 2 2 0 4 4 3 2 1 4 0 7 6 0 2 3 3 1 1 4 4\n",
      " 1 1 3 6 3 0 6 1 2 0 4 3 4 3 3 0 2 7 2 2 4 1 6 4 1 1 0 5 7 2 2 4 3 0 6 4 1\n",
      " 3 7 6 7 4 0 6 2 4 2 4 0 3 0 2]\n",
      "3.6388596546670002\n"
     ]
    }
   ],
   "source": [
    "kmeans = KMeans(n_clusters=8, random_state=0)\n",
    "kmeans.fit(X)\n",
    "print(kmeans.labels_)\n",
    "print(kmeans.inertia_)"
   ]
  },
  {
   "cell_type": "code",
   "execution_count": 5,
   "metadata": {},
   "outputs": [
    {
     "name": "stdout",
     "output_type": "stream",
     "text": [
      "[[0.56421018 0.99163862]\n",
      " [0.1134456  0.11149513]\n",
      " [0.80566203 0.28264598]\n",
      " [0.25090423 0.78458688]\n",
      " [0.85831146 0.62330064]\n",
      " [0.25800375 0.16299883]\n",
      " [0.92231823 0.94790936]\n",
      " [0.80539978 0.58421728]\n",
      " [0.58536398 0.38556159]\n",
      " [0.46003161 0.62896557]\n",
      " [0.67319136 0.95955822]\n",
      " [0.96488885 0.96884752]\n",
      " [0.53341797 0.69844539]\n",
      " [0.25191115 0.69376085]\n",
      " [0.45231361 0.45247329]\n",
      " [0.22698644 0.45725781]\n",
      " [0.9747568  0.344058  ]\n",
      " [0.48485131 0.01851199]\n",
      " [0.47011614 0.05263496]\n",
      " [0.36266995 0.37361565]]\n"
     ]
    }
   ],
   "source": [
    "testdata = np.random.rand(20,2)\n",
    "print(testdata)"
   ]
  },
  {
   "cell_type": "code",
   "execution_count": 6,
   "metadata": {},
   "outputs": [],
   "source": [
    "kmeans.predict(np.array(testdata))\n",
    "centers = kmeans.cluster_centers_"
   ]
  },
  {
   "cell_type": "code",
   "execution_count": 7,
   "metadata": {},
   "outputs": [
    {
     "data": {
      "text/plain": [
       "<function matplotlib.pyplot.show(close=None, block=None)>"
      ]
     },
     "execution_count": 7,
     "metadata": {},
     "output_type": "execute_result"
    },
    {
     "data": {
      "image/png": "[encoded data removed]",
      "text/plain": [
       "<Figure size 432x288 with 1 Axes>"
      ]
     },
     "metadata": {
      "needs_background": "light"
     },
     "output_type": "display_data"
    }
   ],
   "source": [
    "plt.scatter(trainingdata[:,0],trainingdata[:,1] ,c ='g' , s = 8)\n",
    "plt.scatter(testdata[:,0],testdata[:,1] ,c ='b' , s = 25)\n",
    "\n",
    "for j in range(len(centers)):\n",
    "    plt.scatter(centers[j,0],centers[j,1] ,c ='r' , s = 100)\n",
    "\n",
    "plt.show"
   ]
  },
  {
   "cell_type": "code",
   "execution_count": null,
   "metadata": {},
   "outputs": [],
   "source": []
  }
 ],
 "metadata": {
  "kernelspec": {
   "display_name": "Python 3",
   "language": "python",
   "name": "python3"
  },
  "language_info": {
   "codemirror_mode": {
    "name": "ipython",
    "version": 3
   },
   "file_extension": ".py",
   "mimetype": "text/x-python",
   "name": "python",
   "nbconvert_exporter": "python",
   "pygments_lexer": "ipython3",
   "version": "3.8.5"
  }
 },
 "nbformat": 4,
 "nbformat_minor": 4
}
