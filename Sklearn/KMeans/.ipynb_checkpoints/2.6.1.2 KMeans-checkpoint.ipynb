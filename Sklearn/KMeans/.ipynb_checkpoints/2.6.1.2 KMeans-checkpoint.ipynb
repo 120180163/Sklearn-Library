{
 "cells": [
  {
   "cell_type": "code",
   "execution_count": 1,
   "metadata": {},
   "outputs": [],
   "source": [
    "#Import Libraries\n",
    "from sklearn.model_selection import train_test_split\n",
    "from sklearn.cluster import KMeans\n",
    "import numpy as np"
   ]
  },
  {
   "cell_type": "code",
   "execution_count": 2,
   "metadata": {},
   "outputs": [],
   "source": [
    "# creating data\n",
    "X = np.random.rand(10000,2)\n",
    "y = np.random.rand(10000,0)"
   ]
  },
  {
   "cell_type": "code",
   "execution_count": 3,
   "metadata": {},
   "outputs": [],
   "source": [
    "#Splitting data\n",
    "\n",
    "X_train, X_test, y_train, y_test = train_test_split(X, y, test_size=0.33, random_state=44, shuffle =True)\n"
   ]
  },
  {
   "cell_type": "code",
   "execution_count": 4,
   "metadata": {},
   "outputs": [],
   "source": [
    "#Applying KMeans Model \n",
    "\n",
    "KMeansModel = KMeans(n_clusters=5,init='k-means++', #also can be random\n",
    "                     random_state=33,algorithm= 'auto') # also can be full or elkan"
   ]
  },
  {
   "cell_type": "code",
   "execution_count": 5,
   "metadata": {},
   "outputs": [
    {
     "data": {
      "text/plain": [
       "KMeans(n_clusters=5, random_state=33)"
      ]
     },
     "execution_count": 5,
     "metadata": {},
     "output_type": "execute_result"
    }
   ],
   "source": [
    "KMeansModel.fit(X_train)"
   ]
  },
  {
   "cell_type": "code",
   "execution_count": 6,
   "metadata": {},
   "outputs": [
    {
     "name": "stdout",
     "output_type": "stream",
     "text": [
      "KMeansModel Train Score is :  -236.15715685536156\n",
      "KMeansModel Test Score is :  -113.67403591337968\n",
      "KMeansModel centers are :  [[0.23826012 0.74688971]\n",
      " [0.73196292 0.83017128]\n",
      " [0.74378018 0.15483336]\n",
      " [0.23732788 0.2517274 ]\n",
      " [0.74562892 0.48920599]]\n",
      "KMeansModel labels are :  [4 0 3 ... 1 1 1]\n",
      "KMeansModel intertia is :  236.15715685536156\n",
      "KMeansModel No. of iteration is :  11\n"
     ]
    }
   ],
   "source": [
    "#Calculating Details\n",
    "print('KMeansModel Train Score is : ' , KMeansModel.score(X_train))\n",
    "print('KMeansModel Test Score is : ' , KMeansModel.score(X_test))\n",
    "print('KMeansModel centers are : ' , KMeansModel.cluster_centers_)\n",
    "print('KMeansModel labels are : ' , KMeansModel.labels_)\n",
    "print('KMeansModel intertia is : ' , KMeansModel.inertia_)\n",
    "print('KMeansModel No. of iteration is : ' , KMeansModel.n_iter_)"
   ]
  },
  {
   "cell_type": "code",
   "execution_count": 7,
   "metadata": {},
   "outputs": [
    {
     "name": "stdout",
     "output_type": "stream",
     "text": [
      "Predicted Value for KMeansModel is :  [1 3 2 3 1 0 1 4 4 4]\n"
     ]
    }
   ],
   "source": [
    "#Calculating Prediction\n",
    "y_pred = KMeansModel.predict(X_test)\n",
    "print('Predicted Value for KMeansModel is : ' , y_pred[:10])"
   ]
  },
  {
   "cell_type": "code",
   "execution_count": null,
   "metadata": {},
   "outputs": [],
   "source": []
  }
 ],
 "metadata": {
  "kernelspec": {
   "display_name": "Python 3",
   "language": "python",
   "name": "python3"
  },
  "language_info": {
   "codemirror_mode": {
    "name": "ipython",
    "version": 3
   },
   "file_extension": ".py",
   "mimetype": "text/x-python",
   "name": "python",
   "nbconvert_exporter": "python",
   "pygments_lexer": "ipython3",
   "version": "3.8.5"
  }
 },
 "nbformat": 4,
 "nbformat_minor": 4
}
