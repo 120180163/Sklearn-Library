{
 "cells": [
  {
   "cell_type": "code",
   "execution_count": null,
   "metadata": {},
   "outputs": [],
   "source": [
    "#Import Libraries\n",
    "from sklearn.cluster import MiniBatchKMeans\n",
    "#----------------------------------------------------\n",
    "\n",
    "#----------------------------------------------------\n",
    "#Applying MiniBatchKMeans Model \n",
    "\n",
    "'''\n",
    "#sklearn.cluster.MiniBatchKMeans(n_clusters=8, init='k-means++’, max_iter=100,batch_size=100, \n",
    "#                                verbose=0, compute_labels=True,random_state=None, tol=0.0,\n",
    "#                                max_no_improvement=10,init_size=None, n_init=3, reassignment_ratio=0.01)\n",
    "'''\n",
    "\n",
    "MiniBatchKMeansModel = MiniBatchKMeans(n_clusters=5,batch_size=50,init='k-means++') #also can be random\n",
    "MiniBatchKMeansModel.fit(X_train)\n",
    "\n",
    "#Calculating Details\n",
    "print('MiniBatchKMeansModel Train Score is : ' , MiniBatchKMeansModel.score(X_train))\n",
    "print('MiniBatchKMeansModel Test Score is : ' , MiniBatchKMeansModel.score(X_test))\n",
    "print('MiniBatchKMeansModel centers are : ' , MiniBatchKMeansModel.cluster_centers_)\n",
    "print('MiniBatchKMeansModel labels are : ' , MiniBatchKMeansModel.labels_)\n",
    "print('MiniBatchKMeansModel intertia is : ' , MiniBatchKMeansModel.inertia_)\n",
    "print('MiniBatchKMeansModel No. of iteration is : ' , MiniBatchKMeansModel.n_iter_)\n",
    "print('----------------------------------------------------')\n",
    "\n",
    "#Calculating Prediction\n",
    "y_pred = MiniBatchKMeansModel.predict(X_test)\n",
    "print('Predicted Value for MiniBatchKMeansModel is : ' , y_pred[:10])"
   ]
  }
 ],
 "metadata": {
  "kernelspec": {
   "display_name": "Python 3",
   "language": "python",
   "name": "python3"
  },
  "language_info": {
   "codemirror_mode": {
    "name": "ipython",
    "version": 3
   },
   "file_extension": ".py",
   "mimetype": "text/x-python",
   "name": "python",
   "nbconvert_exporter": "python",
   "pygments_lexer": "ipython3",
   "version": "3.8.5"
  }
 },
 "nbformat": 4,
 "nbformat_minor": 4
}
