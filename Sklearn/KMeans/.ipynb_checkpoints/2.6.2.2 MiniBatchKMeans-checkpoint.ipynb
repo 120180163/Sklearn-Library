{
 "cells": [
  {
   "cell_type": "code",
   "execution_count": 1,
   "metadata": {},
   "outputs": [],
   "source": [
    "#Import Libraries\n",
    "from sklearn.model_selection import train_test_split\n",
    "from sklearn.cluster import MiniBatchKMeans\n",
    "import numpy as np"
   ]
  },
  {
   "cell_type": "code",
   "execution_count": 2,
   "metadata": {},
   "outputs": [],
   "source": [
    "# creating data\n",
    "X = np.random.rand(10000,2)\n",
    "y = np.random.rand(10000,0)"
   ]
  },
  {
   "cell_type": "code",
   "execution_count": 3,
   "metadata": {},
   "outputs": [],
   "source": [
    "#Splitting data\n",
    "\n",
    "X_train, X_test, y_train, y_test = train_test_split(X, y, test_size=0.33, random_state=44, shuffle =True)\n",
    "\n",
    "#Splitted Data\n",
    "#print('X_train shape is ' , X_train.shape)\n",
    "#print('X_test shape is ' , X_test.shape)\n",
    "#print('y_train shape is ' , y_train.shape)\n",
    "#print('y_test shape is ' , y_test.shape)"
   ]
  },
  {
   "cell_type": "code",
   "execution_count": 4,
   "metadata": {},
   "outputs": [
    {
     "data": {
      "text/plain": [
       "MiniBatchKMeans(batch_size=50, n_clusters=5)"
      ]
     },
     "execution_count": 4,
     "metadata": {},
     "output_type": "execute_result"
    }
   ],
   "source": [
    "#Applying MiniBatchKMeans Model \n",
    "\n",
    "'''\n",
    "#sklearn.cluster.MiniBatchKMeans(n_clusters=8, init='k-means++’, max_iter=100,batch_size=100, \n",
    "#                                verbose=0, compute_labels=True,random_state=None, tol=0.0,\n",
    "#                                max_no_improvement=10,init_size=None, n_init=3, reassignment_ratio=0.01)\n",
    "'''\n",
    "\n",
    "MiniBatchKMeansModel = MiniBatchKMeans(n_clusters=5,batch_size=50,init='k-means++') #also can be random\n",
    "MiniBatchKMeansModel.fit(X_train)"
   ]
  },
  {
   "cell_type": "code",
   "execution_count": 5,
   "metadata": {},
   "outputs": [
    {
     "name": "stdout",
     "output_type": "stream",
     "text": [
      "MiniBatchKMeansModel Train Score is :  -249.00004545221736\n",
      "MiniBatchKMeansModel Test Score is :  -121.09747592299662\n",
      "MiniBatchKMeansModel centers are :  [[0.20001725 0.78239774]\n",
      " [0.72266572 0.26197203]\n",
      " [0.90359963 0.75273289]\n",
      " [0.18724281 0.26188109]\n",
      " [0.57315115 0.74031823]]\n",
      "MiniBatchKMeansModel labels are :  [3 1 1 ... 3 0 3]\n",
      "MiniBatchKMeansModel intertia is :  249.00004545221705\n",
      "MiniBatchKMeansModel No. of iteration is :  11\n"
     ]
    }
   ],
   "source": [
    "#Calculating Details\n",
    "print('MiniBatchKMeansModel Train Score is : ' , MiniBatchKMeansModel.score(X_train))\n",
    "print('MiniBatchKMeansModel Test Score is : ' , MiniBatchKMeansModel.score(X_test))\n",
    "print('MiniBatchKMeansModel centers are : ' , MiniBatchKMeansModel.cluster_centers_)\n",
    "print('MiniBatchKMeansModel labels are : ' , MiniBatchKMeansModel.labels_)\n",
    "print('MiniBatchKMeansModel intertia is : ' , MiniBatchKMeansModel.inertia_)\n",
    "print('MiniBatchKMeansModel No. of iteration is : ' , MiniBatchKMeansModel.n_iter_)"
   ]
  },
  {
   "cell_type": "code",
   "execution_count": 6,
   "metadata": {},
   "outputs": [
    {
     "name": "stdout",
     "output_type": "stream",
     "text": [
      "Predicted Value for MiniBatchKMeansModel is :  [2 4 1 3 1 4 1 3 3 1]\n"
     ]
    }
   ],
   "source": [
    "#Calculating Prediction\n",
    "y_pred = MiniBatchKMeansModel.predict(X_test)\n",
    "print('Predicted Value for MiniBatchKMeansModel is : ' , y_pred[:10])"
   ]
  },
  {
   "cell_type": "code",
   "execution_count": null,
   "metadata": {},
   "outputs": [],
   "source": []
  }
 ],
 "metadata": {
  "kernelspec": {
   "display_name": "Python 3",
   "language": "python",
   "name": "python3"
  },
  "language_info": {
   "codemirror_mode": {
    "name": "ipython",
    "version": 3
   },
   "file_extension": ".py",
   "mimetype": "text/x-python",
   "name": "python",
   "nbconvert_exporter": "python",
   "pygments_lexer": "ipython3",
   "version": "3.8.5"
  }
 },
 "nbformat": 4,
 "nbformat_minor": 4
}
