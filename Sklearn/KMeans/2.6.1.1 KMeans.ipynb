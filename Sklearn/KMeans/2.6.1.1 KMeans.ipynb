{
 "cells": [
  {
   "cell_type": "code",
   "execution_count": null,
   "metadata": {},
   "outputs": [],
   "source": [
    "#Import Libraries\n",
    "from sklearn.cluster import KMeans"
   ]
  },
  {
   "cell_type": "code",
   "execution_count": null,
   "metadata": {},
   "outputs": [],
   "source": [
    "#Applying KMeans Model \n",
    "\n",
    "'''\n",
    "sklearn.cluster.KMeans(n_clusters=8, init='k-means++’, n_init=10, max_iter=300,tol=0.0001,\n",
    "                       precompute_distances='auto’, verbose=0, random_state=None, copy_x=True,\n",
    "                       n_jobs=None, algorithm='auto’)\n",
    "'''\n",
    "\n",
    "KMeansModel = KMeans(n_clusters=5,init='k-means++', #also can be random\n",
    "                     random_state=33,algorithm= 'auto') # also can be full or elkan"
   ]
  },
  {
   "cell_type": "code",
   "execution_count": null,
   "metadata": {},
   "outputs": [],
   "source": [
    "KMeansModel.fit(X_train)"
   ]
  },
  {
   "cell_type": "code",
   "execution_count": null,
   "metadata": {},
   "outputs": [],
   "source": [
    "#Calculating Details\n",
    "print('KMeansModel Train Score is : ' , KMeansModel.score(X_train))\n",
    "print('KMeansModel Test Score is : ' , KMeansModel.score(X_test))\n",
    "print('KMeansModel centers are : ' , KMeansModel.cluster_centers_)\n",
    "print('KMeansModel labels are : ' , KMeansModel.labels_)\n",
    "print('KMeansModel intertia is : ' , KMeansModel.inertia_)\n",
    "print('KMeansModel No. of iteration is : ' , KMeansModel.n_iter_)"
   ]
  },
  {
   "cell_type": "code",
   "execution_count": null,
   "metadata": {},
   "outputs": [],
   "source": [
    "#Calculating Prediction\n",
    "y_pred = KMeansModel.predict(X_test)\n",
    "print('Predicted Value for KMeansModel is : ' , y_pred[:10])"
   ]
  }
 ],
 "metadata": {
  "kernelspec": {
   "display_name": "Python 3",
   "language": "python",
   "name": "python3"
  },
  "language_info": {
   "codemirror_mode": {
    "name": "ipython",
    "version": 3
   },
   "file_extension": ".py",
   "mimetype": "text/x-python",
   "name": "python",
   "nbconvert_exporter": "python",
   "pygments_lexer": "ipython3",
   "version": "3.8.5"
  }
 },
 "nbformat": 4,
 "nbformat_minor": 4
}
