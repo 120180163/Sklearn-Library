{
 "cells": [
  {
   "cell_type": "code",
   "execution_count": 1,
   "metadata": {},
   "outputs": [],
   "source": [
    "#Import Libraries\n",
    "from sklearn.datasets import make_regression"
   ]
  },
  {
   "cell_type": "code",
   "execution_count": 3,
   "metadata": {},
   "outputs": [],
   "source": [
    "#load regression data\n",
    "\n",
    "'''\n",
    "X ,y = make_regression(n_samples=100, n_features=100, n_informative=10,\n",
    "                       n_targets=1, bias=0.0, effective_rank=None,\n",
    "                       tail_strength=0.5, noise=0.0, shuffle=True, coef=False,\n",
    "                       random_state=None)\n",
    "'''\n",
    "\n",
    "X,y = make_regression(n_samples=10000, n_features=500, shuffle=True)"
   ]
  },
  {
   "cell_type": "code",
   "execution_count": 4,
   "metadata": {},
   "outputs": [
    {
     "name": "stdout",
     "output_type": "stream",
     "text": [
      "X Data is \n",
      " [[ 0.19925296  0.04933726  0.37374952 ... -0.47276138  0.21053739\n",
      "  -1.22496522]\n",
      " [-0.30238247 -1.50765637  1.1047613  ... -1.56381311 -1.27002283\n",
      "   0.40478329]\n",
      " [ 0.66507    -0.92789221 -0.44341541 ...  2.25929949  1.03645091\n",
      "  -0.50774411]\n",
      " ...\n",
      " [-0.78973645 -0.17984889  0.28428322 ... -0.91686839 -0.57771849\n",
      "  -0.66609145]\n",
      " [-0.60036691  0.05100615 -0.74507407 ... -0.8329227  -0.51632892\n",
      "  -0.98659128]\n",
      " [-1.6919394   0.12961607 -1.02669226 ... -0.17333683 -0.34036691\n",
      "  -1.04022207]]\n",
      "X shape is  (10000, 500)\n"
     ]
    }
   ],
   "source": [
    "#X Data\n",
    "print('X Data is \\n' , X[:10])\n",
    "print('X shape is ' , X.shape)"
   ]
  },
  {
   "cell_type": "code",
   "execution_count": 5,
   "metadata": {},
   "outputs": [
    {
     "name": "stdout",
     "output_type": "stream",
     "text": [
      "y Data is \n",
      " [-230.56964886  117.24202873  362.1782221  -166.69368719  -39.65332875\n",
      "  297.61671104  120.600098    -97.07487277   98.74647077  139.17272872]\n",
      "y shape is  (10000,)\n"
     ]
    }
   ],
   "source": [
    "#y Data\n",
    "print('y Data is \\n' , y[:10])\n",
    "print('y shape is ' , y.shape)"
   ]
  },
  {
   "cell_type": "code",
   "execution_count": null,
   "metadata": {},
   "outputs": [],
   "source": []
  }
 ],
 "metadata": {
  "kernelspec": {
   "display_name": "Python 3",
   "language": "python",
   "name": "python3"
  },
  "language_info": {
   "codemirror_mode": {
    "name": "ipython",
    "version": 3
   },
   "file_extension": ".py",
   "mimetype": "text/x-python",
   "name": "python",
   "nbconvert_exporter": "python",
   "pygments_lexer": "ipython3",
   "version": "3.8.5"
  }
 },
 "nbformat": 4,
 "nbformat_minor": 4
}
