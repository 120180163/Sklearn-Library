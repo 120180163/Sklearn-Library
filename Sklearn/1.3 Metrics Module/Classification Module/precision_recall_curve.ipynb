{
 "cells": [
  {
   "cell_type": "code",
   "execution_count": 2,
   "metadata": {},
   "outputs": [],
   "source": [
    "#Import Libraries\n",
    "from sklearn.metrics import precision_recall_curve\n",
    "import numpy as np\n",
    "\n",
    "#Calculating Precision recall Curve :  \n",
    "# precision_recall_curve(y_true, probas_pred, pos_label=None, sample_weight=None)\n",
    "\n",
    "#PrecisionValue, RecallValue, ThresholdsValue = precision_recall_curve(y_test,y_pred)\n",
    "#print('Precision Value is : ', PrecisionValue)\n",
    "#print('Recall Value is : ', RecallValue)\n",
    "#print('Thresholds Value is : ', ThresholdsValue)"
   ]
  },
  {
   "cell_type": "code",
   "execution_count": 3,
   "metadata": {},
   "outputs": [
    {
     "name": "stdout",
     "output_type": "stream",
     "text": [
      "[0.66666667 0.5        1.         1.        ]\n",
      "[1.  0.5 0.5 0. ]\n",
      "[0.35 0.4  0.8 ]\n"
     ]
    }
   ],
   "source": [
    "y_pred =  np.array([0, 0, 1, 1])\n",
    "y_true =   np.array([0.1, 0.4, 0.35, 0.8])\n",
    "\n",
    "precision, recall, thresholds = precision_recall_curve(y_pred, y_true)\n",
    "print(precision)\n",
    "print(recall)\n",
    "print(thresholds)"
   ]
  },
  {
   "cell_type": "code",
   "execution_count": null,
   "metadata": {},
   "outputs": [],
   "source": []
  }
 ],
 "metadata": {
  "kernelspec": {
   "display_name": "Python 3",
   "language": "python",
   "name": "python3"
  },
  "language_info": {
   "codemirror_mode": {
    "name": "ipython",
    "version": 3
   },
   "file_extension": ".py",
   "mimetype": "text/x-python",
   "name": "python",
   "nbconvert_exporter": "python",
   "pygments_lexer": "ipython3",
   "version": "3.8.5"
  }
 },
 "nbformat": 4,
 "nbformat_minor": 4
}
