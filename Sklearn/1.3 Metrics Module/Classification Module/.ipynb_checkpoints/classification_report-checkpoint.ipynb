{
 "cells": [
  {
   "cell_type": "code",
   "execution_count": 2,
   "metadata": {},
   "outputs": [],
   "source": [
    "#Import Libraries\n",
    "from sklearn.metrics import classification_report\n",
    "\n",
    "#Calculating classification Report :  \n",
    "#classification_report(y_true, y_pred, labels=None, target_names=None,sample_weight=None, digits=2, output_dict=False)\n",
    "\n",
    "# ClassificationReport = classification_report(y_test,y_pred)\n",
    "#print('Classification Report is : ', ClassificationReport )"
   ]
  },
  {
   "cell_type": "code",
   "execution_count": 7,
   "metadata": {},
   "outputs": [
    {
     "name": "stdout",
     "output_type": "stream",
     "text": [
      "              precision    recall  f1-score   support\n",
      "\n",
      "           0       0.50      1.00      0.67         1\n",
      "           1       1.00      1.00      1.00         1\n",
      "           2       1.00      0.67      0.80         3\n",
      "           5       1.00      1.00      1.00         1\n",
      "\n",
      "    accuracy                           0.83         6\n",
      "   macro avg       0.88      0.92      0.87         6\n",
      "weighted avg       0.92      0.83      0.84         6\n",
      "\n"
     ]
    }
   ],
   "source": [
    "y_true = [0, 1, 2, 2, 2,5]\n",
    "y_pred = [0, 1, 2, 2, 0,5]\n",
    "\n",
    "print(classification_report(y_true, y_pred))"
   ]
  },
  {
   "cell_type": "code",
   "execution_count": 10,
   "metadata": {},
   "outputs": [
    {
     "name": "stdout",
     "output_type": "stream",
     "text": [
      "              precision    recall  f1-score   support\n",
      "\n",
      "           a       1.00      0.33      0.50         3\n",
      "           d       0.67      1.00      0.80         2\n",
      "           g       0.50      1.00      0.67         1\n",
      "\n",
      "    accuracy                           0.67         6\n",
      "   macro avg       0.72      0.78      0.66         6\n",
      "weighted avg       0.81      0.67      0.63         6\n",
      "\n"
     ]
    }
   ],
   "source": [
    "y_true = ['a','d','a','g','a','d']\n",
    "y_pred = ['a','d','g','g','d','d']\n",
    "\n",
    "print(classification_report(y_true, y_pred))"
   ]
  },
  {
   "cell_type": "code",
   "execution_count": null,
   "metadata": {},
   "outputs": [],
   "source": []
  }
 ],
 "metadata": {
  "kernelspec": {
   "display_name": "Python 3",
   "language": "python",
   "name": "python3"
  },
  "language_info": {
   "codemirror_mode": {
    "name": "ipython",
    "version": 3
   },
   "file_extension": ".py",
   "mimetype": "text/x-python",
   "name": "python",
   "nbconvert_exporter": "python",
   "pygments_lexer": "ipython3",
   "version": "3.8.5"
  }
 },
 "nbformat": 4,
 "nbformat_minor": 4
}
