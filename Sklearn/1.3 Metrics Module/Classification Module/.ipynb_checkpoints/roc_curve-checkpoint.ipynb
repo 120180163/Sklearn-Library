{
 "cells": [
  {
   "cell_type": "code",
   "execution_count": 4,
   "metadata": {},
   "outputs": [],
   "source": [
    "#Import Libraries\n",
    "from sklearn.metrics import roc_curve\n",
    "import numpy as np\n",
    "from sklearn import metrics\n",
    "\n",
    "\n",
    "\n",
    "#Calculating Receiver Operating Characteristic :  \n",
    "#roc_curve(y_true, y_score, pos_label=None, sample_weight=None,drop_intermediate=True)\n",
    "\n",
    "# fprValue, tprValue, thresholdsValue = roc_curve(y_test,y_pred)\n",
    "#print('fpr Value  : ', fprValue)\n",
    "#print('tpr Value  : ', tprValue)\n",
    "#print('thresholds Value  : ', thresholdsValue)"
   ]
  },
  {
   "cell_type": "code",
   "execution_count": 7,
   "metadata": {},
   "outputs": [
    {
     "name": "stdout",
     "output_type": "stream",
     "text": [
      "fpr Value  :  [0.  0.  0.5 0.5 1. ]\n",
      "tpr Value  :  [0.  0.5 0.5 1.  1. ]\n",
      "thresholds Value  :  [1.8  0.8  0.4  0.35 0.1 ]\n"
     ]
    }
   ],
   "source": [
    "y =      np.array([1    , 1     , 2     , 2])\n",
    "scores = np.array([0.1  , 0.4   ,   0.35, 0.8])\n",
    "fpr, tpr, thresholds = metrics.roc_curve(y, scores, pos_label=2)\n",
    "\n",
    "print('fpr Value  : ', fpr)\n",
    "print('tpr Value  : ', tpr)\n",
    "print('thresholds Value  : ', thresholds)"
   ]
  },
  {
   "cell_type": "code",
   "execution_count": null,
   "metadata": {},
   "outputs": [],
   "source": []
  }
 ],
 "metadata": {
  "kernelspec": {
   "display_name": "Python 3",
   "language": "python",
   "name": "python3"
  },
  "language_info": {
   "codemirror_mode": {
    "name": "ipython",
    "version": 3
   },
   "file_extension": ".py",
   "mimetype": "text/x-python",
   "name": "python",
   "nbconvert_exporter": "python",
   "pygments_lexer": "ipython3",
   "version": "3.8.5"
  }
 },
 "nbformat": 4,
 "nbformat_minor": 4
}
